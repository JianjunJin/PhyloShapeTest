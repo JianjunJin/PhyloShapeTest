{
 "cells": [
  {
   "cell_type": "markdown",
   "id": "26ed01e8-ce77-4479-9505-a185b22a1042",
   "metadata": {
    "tags": []
   },
   "source": [
    "## scipy version"
   ]
  },
  {
   "cell_type": "code",
   "execution_count": 70,
   "id": "8ef6611f-67f1-4ed6-bb87-3b061e544826",
   "metadata": {
    "tags": []
   },
   "outputs": [],
   "source": [
    "from scipy.spatial.transform import Rotation\n",
    "import numpy as np\n",
    "\n",
    "\n",
    "def get_rotvec(triangle):\n",
    "    # triangle = np.array(triangle, dtype=float)\n",
    "    p1, p2, p3 = triangle\n",
    "    normal = np.cross(p2 - p1, p3 - p1)\n",
    "    normal /= (sum(normal ** 2)) ** 0.5 \n",
    "    z_axis = np.array([0, 0, 1])\n",
    "    angle = np.arccos(np.dot(normal, z_axis))\n",
    "    axis = np.cross(normal, z_axis)\n",
    "    if np.linalg.norm(axis) < 1e-6:\n",
    "        axis = np.array([1, 0, 0])\n",
    "    else:\n",
    "        axis /= (sum(axis ** 2)) ** 0.5 \n",
    "    return angle * axis\n",
    "\n",
    "\n",
    "def rot_to_xy_plane(rotvec):\n",
    "    rot1 = Rotation.from_rotvec(rotvec)\n",
    "    return rot1\n",
    "\n",
    "def rot_to_x_axis(triangle):\n",
    "    p1, p2, p3 = triangle\n",
    "    angle = np.arctan2(p2[1], p2[0])\n",
    "    rot2 = Rotation.from_euler('z', -angle)\n",
    "    return rot2\n",
    "\n",
    "def get_quaternion_rotation(triangle):\n",
    "    rotvec = get_rotvec(triangle)\n",
    "    rot1 = rot_to_xy_plane(rotvec)\n",
    "\n",
    "    # Rotate around z-axis to align second point with x-axis\n",
    "    rotated_triangle = rot1.apply(triangle)\n",
    "    # print(rot1.as_quat())\n",
    "    # print(rot1.as_matrix())\n",
    "    rot2 = rot_to_x_axis(rotated_triangle)\n",
    "\n",
    "    # Combine the two rotations\n",
    "    # print(\"scipy rot1_q:\", rot1.as_quat())\n",
    "    # print(\"scipy rot2_q:\", rot2.as_quat())\n",
    "    # print(\"scipy combined_q:\", (rot2 * rot1).as_quat())\n",
    "    return rot2 * rot1\n",
    "\n",
    "\n",
    "def rotate_triangle_to_xy(triangle):\n",
    "    # triangle = np.array(triangle, dtype=float)\n",
    "    rot = get_quaternion_rotation(triangle)\n",
    "    rotated_triangle = rot.apply(triangle)\n",
    "    return rotated_triangle\n",
    "\n",
    "\n",
    "# triangle = np.array([(0, 0, 0), (1, 2, 3), (4, 5, 6)], dtype=np.float64)\n",
    "# rotated_triangle = rotate_triangle_to_xy(triangle)\n",
    "# print(rotated_triangle)"
   ]
  },
  {
   "cell_type": "markdown",
   "id": "0aea0d01-7275-4090-9760-b23f1ae9d83c",
   "metadata": {
    "tags": []
   },
   "source": [
    "## numpy version"
   ]
  },
  {
   "cell_type": "code",
   "execution_count": 295,
   "id": "2ec7eb89-7c06-4324-b10b-6f45c4b4b2eb",
   "metadata": {
    "tags": []
   },
   "outputs": [
    {
     "data": {
      "text/plain": [
       "array([1, 2, 3])"
      ]
     },
     "execution_count": 295,
     "metadata": {},
     "output_type": "execute_result"
    }
   ],
   "source": [
    "_rotvec = np.array([1, 2, 3])\n",
    "_rotvec[None, :][0, :]"
   ]
  },
  {
   "cell_type": "code",
   "execution_count": 296,
   "id": "c413bfc7-50b9-45ac-af2b-2071a80df8e4",
   "metadata": {
    "tags": []
   },
   "outputs": [],
   "source": [
    "import numpy as np\n",
    "\n",
    "\n",
    "# def from_rotvec_np(rotvec):\n",
    "#     is_single = False\n",
    "#     # rotvec = np.asarray(rotvec, dtype=float)\n",
    "\n",
    "#     if rotvec.ndim not in [1, 2] or rotvec.shape[-1] != 3:\n",
    "#         raise ValueError(\"Expected `rot_vec` to have shape (3,) \"\n",
    "#                          \"or (N, 3), got {}\".format(rotvec.shape))\n",
    "\n",
    "#     if rotvec.shape == (3,):\n",
    "#         crotvec = rotvec[None, :]\n",
    "#         is_single = True\n",
    "#     else:\n",
    "#         crotvec = rotvec\n",
    "\n",
    "#     num_rotations = crotvec.shape[0]\n",
    "#     quat = np.zeros((num_rotations, 4))\n",
    "\n",
    "#     for ind in range(num_rotations):\n",
    "\n",
    "#         angle = (sum(crotvec[ind, :] ** 2)) ** 0.5\n",
    "\n",
    "#         # if angle <= 1e-3:  # small angle\n",
    "#         #     angle2 = angle * angle\n",
    "#         #     scale = 0.5 - angle2 / 48 + angle2 * angle2 / 3840\n",
    "#         # else:  # large angle\n",
    "#         #     scale = np.sin(angle / 2) / angle\n",
    "        \n",
    "#         scale = np.sin(angle / 2) / angle\n",
    "\n",
    "#         quat[ind, 0] = scale * crotvec[ind, 0]\n",
    "#         quat[ind, 1] = scale * crotvec[ind, 1]\n",
    "#         quat[ind, 2] = scale * crotvec[ind, 2]\n",
    "#         quat[ind, 3] = np.cos(angle / 2)\n",
    "    \n",
    "#     if is_single:\n",
    "#         return quat[0]\n",
    "#     else:\n",
    "#         return quat\n",
    "    \n",
    "\n",
    "def from_rotvec_np(rotvec):\n",
    "    angle = (sum(rotvec ** 2)) ** 0.5\n",
    "    scale = np.sin(angle / 2) / angle\n",
    "    return np.array([scale * rotvec[0],\n",
    "                     scale * rotvec[1],\n",
    "                     scale * rotvec[2],\n",
    "                     np.cos(angle / 2)])\n",
    "\n",
    "\n",
    "\n",
    "def _quat_mul_np(q1, q2):\n",
    "    x1, y1, z1, w1 = q1\n",
    "    x2, y2, z2, w2 = q2\n",
    "    w = w1 * w2 - x1 * x2 - y1 * y2 - z1 * z2\n",
    "    x = w1 * x2 + x1 * w2 + y1 * z2 - z1 * y2\n",
    "    y = w1 * y2 + y1 * w2 + z1 * x2 - x1 * z2\n",
    "    z = w1 * z2 + z1 * w2 + x1 * y2 - y1 * x2\n",
    "    return np.array([x, y, z, w])\n",
    "# slower\n",
    "# def _quat_mul_np2(q1, q2):\n",
    "#     q1_matrix = np.array([[q1[3], -q1[2], q1[1], q1[0]], [q1[2], q1[3], -q1[0], q1[1]], [-q1[1], q1[0], q1[3], q1[2]], [-q1[0], -q1[1], -q1[2], q1[3]]])\n",
    "#     return np.einsum('ij,j->i', q1_matrix, q2)\n",
    "\n",
    "\n",
    "def quaternion_to_matrix_np(quaternion):\n",
    "    x, y, z, w = quaternion\n",
    "    R = [[1 - 2*(y**2 + z**2), 2*(x*y - z*w), 2*(x*z + y*w)],\n",
    "         [2*(x*y + z*w), 1 - 2*(x**2 + z**2), 2*(y*z - x*w)],\n",
    "         [2*(x*z - y*w), 2*(y*z + x*w), 1 - 2*(x**2 + y**2)]]\n",
    "    return np.array(R, dtype=np.float64)\n",
    "\n",
    "# # slower\n",
    "# def quaternion_to_matrix_np2(quaternion):\n",
    "#     \"\"\"\n",
    "#     Convert a quaternion to a rotation matrix using NumPy.\n",
    "    \n",
    "#     :param quaternion: A list or array-like object containing four elements representing a quaternion [x, y, z, w].\n",
    "#     :return: A 3x3 NumPy array representing the rotation matrix.\n",
    "#     \"\"\"\n",
    "#     q = np.outer(quaternion, quaternion)\n",
    "#     diag_indices = np.diag_indices(3)\n",
    "#     rotation_matrix = np.array(\n",
    "#         [[q[1, 1]+q[2, 2], q[0, 1]-q[2, 3], q[0, 2]+q[1, 3]],\n",
    "#          [q[0, 1]+q[2, 3], q[0, 0]+q[2, 2], q[1, 2]-q[0, 3]],\n",
    "#          [q[0, 2]-q[1, 3], q[1, 2]+q[0, 3], q[0, 0]+q[1, 1]]],\n",
    "#         dtype=np.float64)\n",
    "#     rotation_matrix *= 2\n",
    "#     rotation_matrix[diag_indices] *= -1\n",
    "#     rotation_matrix[diag_indices] += 1\n",
    "#     return rotation_matrix\n",
    "\n",
    "\n",
    "# slower\n",
    "# def from_euler_np(seq, angles):\n",
    "#     if seq == 'z':\n",
    "#         cy_val = np.cos(angles * 0.5)\n",
    "#         sy_val = np.sin(angles * 0.5)\n",
    "#         cp_val = 1.\n",
    "#         sp_val = 0.\n",
    "#         cr_val = 0.\n",
    "#         sr_val = 1.\n",
    "\n",
    "#         q = [cy_val * cp_val * sr_val - sy_val * sp_val * cr_val,\n",
    "#              sy_val * cp_val * sr_val + cy_val * sp_val * cr_val,\n",
    "#              sy_val * cp_val * cr_val - cy_val * sp_val * sr_val,\n",
    "#              cy_val * cp_val * cr_val + sy_val * sp_val * sr_val][::-1]\n",
    "#     # Add code for other sequences here\n",
    "#     return q\n",
    "\n",
    "\n",
    "def from_euler_np(seq, angles):\n",
    "    if seq == 'z':\n",
    "        cy_val = np.cos(angles * 0.5)\n",
    "        sy_val = np.sin(angles * 0.5)\n",
    "    return [0, 0, sy_val, cy_val]\n",
    "\n",
    "\n",
    "def rot_to_x_axis_np(triangle):\n",
    "    p1, p2, p3 = triangle\n",
    "    angle = np.arctan2(p2[1], p2[0])\n",
    "    rot2 = from_euler_np('z', -angle)\n",
    "    return rot2\n",
    "\n",
    "\n",
    "def get_quaternion_rotation_np(triangle):\n",
    "    p1, p2, p3 = triangle\n",
    "    normal = np.cross(p2 - p1, p3 - p1)\n",
    "    normal /= (sum(normal ** 2)) ** 0.5 \n",
    "    z_axis = np.array([0, 0, 1])\n",
    "    angle = np.arccos(normal.dot(z_axis))\n",
    "    axis = np.cross(normal, z_axis)\n",
    "    # if (sum(axis ** 2)) ** 0.5 < 1e-6:\n",
    "    #     axis = np.array([1, 0, 0])\n",
    "    # else:\n",
    "    #     axis /= (sum(axis ** 2)) ** 0.5 \n",
    "    axis /= (sum(axis ** 2)) ** 0.5\n",
    "    # print(\"axis\", axis)\n",
    "    # print(\"angle numpy\", angle)\n",
    "    rot1 = from_rotvec_np(angle * axis)\n",
    "    # print(rot1)\n",
    "    rot1_m = quaternion_to_matrix_np(rot1)\n",
    "    # print(\"rot1_m\", rot1_m)\n",
    "\n",
    "    # Rotate around z-axis to align second point with x-axis\n",
    "    rotated_triangle = triangle.dot(rot1_m.T)\n",
    "    p1, p2, p3 = rotated_triangle\n",
    "    angle = np.arctan2(p2[1], p2[0])\n",
    "    rot2 = from_euler_np('z', -angle)\n",
    "    # print(\"rot2\", rot2)\n",
    "\n",
    "    # Combine the two rotations\n",
    "    return quaternion_to_matrix_np(_quat_mul_np(rot2, rot1))\n",
    "\n",
    "\n",
    "def rotate_triangle_to_xy_np(triangle):\n",
    "    rot = get_quaternion_rotation_np(triangle)\n",
    "    # print(\"rot np\", rot)\n",
    "    rotated_triangle = triangle.dot(rot.T)\n",
    "    return rotated_triangle"
   ]
  },
  {
   "cell_type": "markdown",
   "id": "94f05d97-65d7-4751-91aa-c88ff8577043",
   "metadata": {},
   "source": [
    "## sympy version"
   ]
  },
  {
   "cell_type": "code",
   "execution_count": 139,
   "id": "91122f94-2e38-44c2-8bb2-98fb85246f41",
   "metadata": {
    "tags": []
   },
   "outputs": [],
   "source": [
    "import numpy as np\n",
    "import sympy as sp\n",
    "\n",
    "\n",
    "def from_rotvec(rotvec):\n",
    "    is_single = False\n",
    "    # rotvec = np.asarray(rotvec, dtype=float)\n",
    "\n",
    "    if rotvec.ndim not in [1, 2] or rotvec.shape[-1] != 3:\n",
    "        raise ValueError(\"Expected `rot_vec` to have shape (3,) \"\n",
    "                         \"or (N, 3), got {}\".format(rotvec.shape))\n",
    "\n",
    "    if rotvec.shape == (3,):\n",
    "        crotvec = rotvec[None, :]\n",
    "        is_single = True\n",
    "    else:\n",
    "        crotvec = rotvec\n",
    "\n",
    "    num_rotations = crotvec.shape[0]\n",
    "    quat = sp.Matrix.zeros(num_rotations, 4)\n",
    "\n",
    "    for ind in range(num_rotations):\n",
    "\n",
    "        angle = (sum(crotvec[ind, :] ** 2)) ** 0.5\n",
    "\n",
    "        # if angle <= 1e-3:  # small angle\n",
    "        #     angle2 = angle * angle\n",
    "        #     scale = 0.5 - angle2 / 48 + angle2 * angle2 / 3840\n",
    "        # else:  # large angle\n",
    "        #     scale = np.sin(angle / 2) / angle\n",
    "        \n",
    "        scale = sp.sin(angle / 2) / angle\n",
    "\n",
    "        quat[ind, 0] = scale * crotvec[ind, 0]\n",
    "        quat[ind, 1] = scale * crotvec[ind, 1]\n",
    "        quat[ind, 2] = scale * crotvec[ind, 2]\n",
    "        quat[ind, 3] = sp.cos(angle / 2)\n",
    "    \n",
    "    return quat\n",
    "    # if is_single:\n",
    "    #     return quat[0]\n",
    "    # else:\n",
    "    #     return quat\n",
    "\n",
    "\n",
    "def _quat_mul(q1, q2):\n",
    "    x1, y1, z1, w1 = q1\n",
    "    x2, y2, z2, w2 = q2\n",
    "    w = w1 * w2 - x1 * x2 - y1 * y2 - z1 * z2\n",
    "    x = w1 * x2 + x1 * w2 + y1 * z2 - z1 * y2\n",
    "    y = w1 * y2 + y1 * w2 + z1 * x2 - x1 * z2\n",
    "    z = w1 * z2 + z1 * w2 + x1 * y2 - y1 * x2\n",
    "    return np.array([x, y, z, w])\n",
    "    \n",
    "\n",
    "def quaternion_to_matrix(quaternion):\n",
    "    x, y, z, w = list(quaternion)\n",
    "    R = [[1 - 2*(y**2 + z**2), 2*(x*y - z*w), 2*(x*z + y*w)],\n",
    "         [2*(x*y + z*w), 1 - 2*(x**2 + z**2), 2*(y*z - x*w)],\n",
    "         [2*(x*z - y*w), 2*(y*z + x*w), 1 - 2*(x**2 + y**2)]]\n",
    "    return sp.Matrix(R)\n",
    "\n",
    "\n",
    "# def from_euler(seq, angles):\n",
    "#     if seq == 'z':\n",
    "#         cy_val = sp.cos(angles * 0.5)\n",
    "#         sy_val = sp.sin(angles * 0.5)\n",
    "#         cp_val = 1.\n",
    "#         sp_val = 0.\n",
    "#         cr_val = 0.\n",
    "#         sr_val = 1.\n",
    "\n",
    "#         q = [cy_val * cp_val * sr_val - sy_val * sp_val * cr_val,\n",
    "#              sy_val * cp_val * sr_val + cy_val * sp_val * cr_val,\n",
    "#              sy_val * cp_val * cr_val - cy_val * sp_val * sr_val,\n",
    "#              cy_val * cp_val * cr_val + sy_val * sp_val * sr_val][::-1]\n",
    "#     # Add code for other sequences here\n",
    "#     return q\n",
    "\n",
    "\n",
    "def from_euler(seq, angles):\n",
    "    if seq == 'z':\n",
    "        cy_val = sp.cos(angles * 0.5)\n",
    "        sy_val = sp.sin(angles * 0.5)\n",
    "    return [0., 0., sy_val, cy_val]\n",
    "\n",
    "\n",
    "def rot_to_x_axis_sympy(triangle):\n",
    "    p1, p2, p3 = triangle\n",
    "    angle = np.arctan2(p2[1], p2[0])\n",
    "    rot2 = from_euler('z', -angle)\n",
    "    return rot2\n",
    "\n",
    "\n",
    "def get_quaternion_rotation_sym(triangle):\n",
    "    p1, p2, p3 = triangle\n",
    "    normal = np.cross(p2 - p1, p3 - p1)\n",
    "    normal /= (sum(normal ** 2)) ** 0.5 \n",
    "    z_axis = np.array([0, 0, 1])\n",
    "    angle = sp.acos(sp.Matrix(normal).dot(sp.Matrix(z_axis)))\n",
    "    axis = np.cross(normal, z_axis)\n",
    "    # if (sum(axis ** 2)) ** 0.5 < 1e-6:\n",
    "    #     axis = np.array([1, 0, 0])\n",
    "    # else:\n",
    "    #     axis /= (sum(axis ** 2)) ** 0.5 \n",
    "    axis /= (sum(axis ** 2)) ** 0.5\n",
    "    # print(\"axis\", axis)\n",
    "    # print(\"angle sympy \", angle)\n",
    "    rot1 = from_rotvec(angle * axis)\n",
    "    # print(rot1)\n",
    "    rot1_m = quaternion_to_matrix(rot1)\n",
    "    # print(\"rot1_m\", rot1_m)\n",
    "\n",
    "    # Rotate around z-axis to align second point with x-axis\n",
    "    rotated_triangle = triangle.dot(rot1_m.T)\n",
    "    p1, p2, p3 = rotated_triangle\n",
    "    angle = sp.atan2(p2[1], p2[0])\n",
    "    rot2 = from_euler('z', -angle)\n",
    "    # print(\"rot2\", rot2)\n",
    "\n",
    "    # Combine the two rotations\n",
    "    return quaternion_to_matrix(_quat_mul(rot2, rot1))\n",
    "\n",
    "\n",
    "def rotate_triangle_to_xy_sym(triangle):\n",
    "    rot = get_quaternion_rotation_sym(triangle)\n",
    "    # print(\"rot sp\", rot)\n",
    "    rotated_triangle = triangle.dot(rot.T)\n",
    "    return rotated_triangle"
   ]
  },
  {
   "cell_type": "code",
   "execution_count": 297,
   "id": "831dd843-7856-44ce-a4d7-0f39e39f8a58",
   "metadata": {
    "tags": []
   },
   "outputs": [
    {
     "data": {
      "text/plain": [
       "(array([[0, 0, 0],\n",
       "        [3.74165738677394, -1.33226762955019e-15, 0],\n",
       "        [8.55235974119758, 1.96396101212393, 4.44089209850063e-16]],\n",
       "       dtype=object),\n",
       " array([[ 0.00000000e+00,  0.00000000e+00,  0.00000000e+00],\n",
       "        [ 3.74165739e+00, -1.11022302e-16, -2.22044605e-16],\n",
       "        [ 8.55235974e+00,  1.96396101e+00, -4.44089210e-16]]))"
      ]
     },
     "execution_count": 297,
     "metadata": {},
     "output_type": "execute_result"
    }
   ],
   "source": [
    "triangle = np.array([(0, 0, 0), (1, 2, 3), (4, 5, 6)], dtype=np.float64)\n",
    "# get_quaternion_rotation_sym(triangle), get_quaternion_rotation(triangle).as_matrix()\n",
    "rotate_triangle_to_xy_sym(triangle), rotate_triangle_to_xy_np(triangle)  #, rotate_triangle_to_xy(triangle)"
   ]
  },
  {
   "cell_type": "code",
   "execution_count": 299,
   "id": "55115ff2-d4f0-4174-9a2f-d42773cc13af",
   "metadata": {
    "tags": []
   },
   "outputs": [
    {
     "name": "stdout",
     "output_type": "stream",
     "text": [
      "241 µs ± 6.77 µs per loop (mean ± std. dev. of 7 runs, 1,000 loops each)\n"
     ]
    }
   ],
   "source": [
    "%%timeit\n",
    "rotate_triangle_to_xy(triangle)"
   ]
  },
  {
   "cell_type": "code",
   "execution_count": 300,
   "id": "b881e34b-a117-4247-95ec-4d7c57a0165e",
   "metadata": {
    "tags": []
   },
   "outputs": [
    {
     "name": "stdout",
     "output_type": "stream",
     "text": [
      "191 µs ± 2.69 µs per loop (mean ± std. dev. of 7 runs, 10,000 loops each)\n"
     ]
    }
   ],
   "source": [
    "%%timeit\n",
    "rotate_triangle_to_xy_np(triangle)"
   ]
  },
  {
   "cell_type": "code",
   "execution_count": 301,
   "id": "4737b7ab-55a8-4599-9263-6fc79307efed",
   "metadata": {
    "tags": []
   },
   "outputs": [
    {
     "name": "stdout",
     "output_type": "stream",
     "text": [
      "4.08 ms ± 37.7 µs per loop (mean ± std. dev. of 7 runs, 100 loops each)\n"
     ]
    }
   ],
   "source": [
    "%%timeit\n",
    "rotate_triangle_to_xy_sym(triangle)"
   ]
  },
  {
   "cell_type": "code",
   "execution_count": 6,
   "id": "bd11193b-44ac-4588-8be7-6f2712ea0a0a",
   "metadata": {
    "tags": []
   },
   "outputs": [
    {
     "name": "stdout",
     "output_type": "stream",
     "text": [
      "207 µs ± 20.1 µs per loop (mean ± std. dev. of 7 runs, 10,000 loops each)\n"
     ]
    }
   ],
   "source": [
    "%%timeit\n",
    "get_quaternion_rotation(triangle).as_matrix()"
   ]
  },
  {
   "cell_type": "code",
   "execution_count": 7,
   "id": "1d6a3050-80cd-44cb-9827-96f4de6f3668",
   "metadata": {
    "tags": []
   },
   "outputs": [],
   "source": [
    "# [[ 0.00000000e+00  0.00000000e+00  0.00000000e+00]\n",
    "#  [ 3.74165739e+00 -3.33066907e-16  2.22044605e-16]\n",
    "#  [ 8.55235974e+00  1.96396101e+00  0.00000000e+00]]"
   ]
  },
  {
   "cell_type": "code",
   "execution_count": 8,
   "id": "14b5d1db-3df9-4b6d-b612-8ed1ad3ad75d",
   "metadata": {
    "tags": []
   },
   "outputs": [],
   "source": [
    "m = get_quaternion_rotation(triangle).as_matrix()"
   ]
  },
  {
   "cell_type": "code",
   "execution_count": 9,
   "id": "b8195b37-c070-4008-825b-4ef9d080f642",
   "metadata": {
    "tags": []
   },
   "outputs": [
    {
     "data": {
      "text/plain": [
       "array([[ 0.00000000e+00,  0.00000000e+00,  0.00000000e+00],\n",
       "       [ 3.74165739e+00, -3.33066907e-16,  1.66533454e-16],\n",
       "       [ 8.55235974e+00,  1.96396101e+00,  3.33066907e-16]])"
      ]
     },
     "execution_count": 9,
     "metadata": {},
     "output_type": "execute_result"
    }
   ],
   "source": [
    "triangle.dot(m.T)"
   ]
  },
  {
   "cell_type": "code",
   "execution_count": null,
   "id": "28d18af2-1796-4218-9fd4-645fc9b0a4e8",
   "metadata": {},
   "outputs": [],
   "source": []
  },
  {
   "cell_type": "code",
   "execution_count": 10,
   "id": "94c946ae-177a-4a58-a2e1-ce66ac15ad65",
   "metadata": {
    "tags": []
   },
   "outputs": [
    {
     "data": {
      "text/plain": [
       "array([[ 2.22044605e-16, -1.00000000e+00,  0.00000000e+00],\n",
       "       [ 1.00000000e+00,  2.22044605e-16,  0.00000000e+00],\n",
       "       [ 0.00000000e+00,  0.00000000e+00,  1.00000000e+00]])"
      ]
     },
     "execution_count": 10,
     "metadata": {},
     "output_type": "execute_result"
    }
   ],
   "source": [
    "from scipy.spatial.transform import Rotation as R\n",
    "import numpy as np\n",
    "\n",
    "r = R.from_quat([0, 0, np.sin(np.pi/4), np.cos(np.pi/4)])\n",
    "r.as_matrix()"
   ]
  },
  {
   "cell_type": "code",
   "execution_count": 11,
   "id": "b18d37f3-40d3-49a6-b91b-af9016725336",
   "metadata": {
    "tags": []
   },
   "outputs": [
    {
     "data": {
      "text/plain": [
       "array([-2.,  1.,  3.])"
      ]
     },
     "execution_count": 11,
     "metadata": {},
     "output_type": "execute_result"
    }
   ],
   "source": [
    "v = [1, 2, 3]\n",
    "v_rotated = r.apply(v)\n",
    "v_rotated"
   ]
  },
  {
   "cell_type": "code",
   "execution_count": 12,
   "id": "e279ce67-cb9c-49ae-a01c-3bb8364d80e0",
   "metadata": {
    "tags": []
   },
   "outputs": [
    {
     "data": {
      "text/plain": [
       "array([-2.,  1.,  3.])"
      ]
     },
     "execution_count": 12,
     "metadata": {},
     "output_type": "execute_result"
    }
   ],
   "source": [
    "np.array(v).dot(r.as_matrix().T)"
   ]
  },
  {
   "cell_type": "code",
   "execution_count": 13,
   "id": "9b2cbf61-15c0-404d-98ed-b71fbdbc280c",
   "metadata": {
    "tags": []
   },
   "outputs": [
    {
     "data": {
      "text/plain": [
       "array([-2.,  1.,  3.])"
      ]
     },
     "execution_count": 13,
     "metadata": {},
     "output_type": "execute_result"
    }
   ],
   "source": [
    "r.as_matrix().dot(v)"
   ]
  },
  {
   "cell_type": "code",
   "execution_count": null,
   "id": "77c0caef-1099-47ea-baf9-9909b100ee45",
   "metadata": {},
   "outputs": [],
   "source": []
  },
  {
   "cell_type": "code",
   "execution_count": 14,
   "id": "bcce73ea-2bed-4ad9-9a78-31ffafc176d4",
   "metadata": {
    "tags": []
   },
   "outputs": [],
   "source": [
    "from phyloshape.utils import trans_vector_to_relative"
   ]
  },
  {
   "cell_type": "code",
   "execution_count": 15,
   "id": "41f65b8e-7b5e-42cd-a683-aa8d08a2c28c",
   "metadata": {
    "tags": []
   },
   "outputs": [],
   "source": [
    "from sympy import symbols"
   ]
  },
  {
   "cell_type": "code",
   "execution_count": 16,
   "id": "57ae8789-3bd1-4dcf-a6e9-06e8b4e777bc",
   "metadata": {
    "tags": []
   },
   "outputs": [],
   "source": [
    "pl1 = symbols(\"x0:3\")\n",
    "pl2 = symbols(\"x3:6\")\n",
    "pl3 = symbols(\"x6:9\")\n",
    "vts = symbols(\"m0:3\")"
   ]
  },
  {
   "cell_type": "code",
   "execution_count": 17,
   "id": "1670f84b-9c28-4160-a578-7c1b1430a3f8",
   "metadata": {
    "tags": []
   },
   "outputs": [],
   "source": [
    "plane = np.array([pl1, pl2, pl3])"
   ]
  },
  {
   "cell_type": "code",
   "execution_count": 18,
   "id": "8e53111c-faba-4140-9c79-ca33443826e3",
   "metadata": {
    "tags": []
   },
   "outputs": [],
   "source": [
    "vect = np.array(vts)"
   ]
  },
  {
   "cell_type": "code",
   "execution_count": 19,
   "id": "e68f3b51-da5b-4318-9ed0-0442483891a5",
   "metadata": {
    "tags": []
   },
   "outputs": [],
   "source": [
    "relative_vet1 = trans_vector_to_relative(vect, plane)"
   ]
  },
  {
   "cell_type": "code",
   "execution_count": 20,
   "id": "ef236c9e-2b18-4675-9573-b66833f2e940",
   "metadata": {
    "tags": []
   },
   "outputs": [],
   "source": [
    "qr = get_quaternion_rotation_sym(plane)\n",
    "relative_vet2 = vect.dot(qr.T)"
   ]
  },
  {
   "cell_type": "code",
   "execution_count": 21,
   "id": "b3a1c687-66c7-4c2b-9851-4c2d574c0b21",
   "metadata": {
    "tags": []
   },
   "outputs": [],
   "source": [
    "res1_func1 = sp.lambdify(pl1 + pl2 + pl3 + vts, relative_vet1[0])"
   ]
  },
  {
   "cell_type": "code",
   "execution_count": 22,
   "id": "0b444a69-0001-455e-87b3-d3b8eb3d8d20",
   "metadata": {
    "tags": []
   },
   "outputs": [],
   "source": [
    "res2_func1 = sp.lambdify(pl1 + pl2 + pl3 + vts, relative_vet2[0])"
   ]
  },
  {
   "cell_type": "code",
   "execution_count": null,
   "id": "93a19ca3-6340-4ac9-9099-4f93dcaf4bf9",
   "metadata": {},
   "outputs": [],
   "source": []
  },
  {
   "cell_type": "code",
   "execution_count": 23,
   "id": "198e80c9-b5a4-4a60-84f1-b8d4375db45f",
   "metadata": {
    "tags": []
   },
   "outputs": [
    {
     "data": {
      "text/plain": [
       "array([[   1.,   20.,  300.],\n",
       "       [   3.,  -15., -294.],\n",
       "       [   6.,  -12., -291.]])"
      ]
     },
     "execution_count": 23,
     "metadata": {},
     "output_type": "execute_result"
    }
   ],
   "source": [
    "plane = np.array([[1,20,300],[4,5,6],[7,8,9]], dtype=float)\n",
    "plane[1] -= plane[0]\n",
    "plane[2] -= plane[0]\n",
    "plane"
   ]
  },
  {
   "cell_type": "code",
   "execution_count": 24,
   "id": "d5f72488-f23d-42e8-a2bf-ce1f20aa7980",
   "metadata": {
    "tags": []
   },
   "outputs": [
    {
     "data": {
      "text/plain": [
       "array([-13.59082887,  14.31564872,  -0.59293523])"
      ]
     },
     "execution_count": 24,
     "metadata": {},
     "output_type": "execute_result"
    }
   ],
   "source": [
    "trans_vector_to_relative(np.array([10,11,13], dtype=float), plane)"
   ]
  },
  {
   "cell_type": "code",
   "execution_count": 25,
   "id": "d4235555-b2ef-4295-bf14-c7558c9ada17",
   "metadata": {
    "tags": []
   },
   "outputs": [
    {
     "data": {
      "text/plain": [
       "array([-13.4416527457314, 14.4558084959468, -0.592935233969217],\n",
       "      dtype=object)"
      ]
     },
     "execution_count": 25,
     "metadata": {},
     "output_type": "execute_result"
    }
   ],
   "source": [
    "qr = get_quaternion_rotation_sym(plane)\n",
    "relative_vet2 = np.array([10.,11.,13.]).dot(np.array(qr).T)\n",
    "relative_vet2"
   ]
  },
  {
   "cell_type": "code",
   "execution_count": 26,
   "id": "ba234231-0c38-4e03-88ef-b33ce090eead",
   "metadata": {
    "tags": []
   },
   "outputs": [
    {
     "data": {
      "text/plain": [
       "array([-13.44165275,  14.4558085 ,  -0.59293523])"
      ]
     },
     "execution_count": 26,
     "metadata": {},
     "output_type": "execute_result"
    }
   ],
   "source": [
    "qr = get_quaternion_rotation(plane)\n",
    "qr.apply(np.array([10.,11.,13.]))"
   ]
  },
  {
   "cell_type": "code",
   "execution_count": null,
   "id": "5c31a3c9-9036-4cbb-8c95-b79eb0ab343a",
   "metadata": {},
   "outputs": [],
   "source": []
  },
  {
   "cell_type": "code",
   "execution_count": 27,
   "id": "70b57aee-df88-4ae1-998a-b7ad3926e79d",
   "metadata": {
    "tags": []
   },
   "outputs": [
    {
     "name": "stdout",
     "output_type": "stream",
     "text": [
      "116 µs ± 2.25 µs per loop (mean ± std. dev. of 7 runs, 10,000 loops each)\n"
     ]
    }
   ],
   "source": [
    "%%timeit\n",
    "res1_func1(1,20,300,3.,  -15., -294.,6.,  -12., -291.,10,11,13)"
   ]
  },
  {
   "cell_type": "code",
   "execution_count": 28,
   "id": "37750085-578d-4409-8a49-f36937ecc392",
   "metadata": {
    "tags": []
   },
   "outputs": [
    {
     "name": "stdout",
     "output_type": "stream",
     "text": [
      "4.5 ms ± 226 µs per loop (mean ± std. dev. of 7 runs, 100 loops each)\n"
     ]
    }
   ],
   "source": [
    "%%timeit\n",
    "res2_func1(1,20,300,3.,  -15., -294.,6.,  -12., -291.,10,11,13)"
   ]
  },
  {
   "cell_type": "code",
   "execution_count": 29,
   "id": "f130bac6-fe3a-42fd-a728-e04051a61658",
   "metadata": {
    "tags": []
   },
   "outputs": [
    {
     "name": "stdout",
     "output_type": "stream",
     "text": [
      "57 µs ± 680 ns per loop (mean ± std. dev. of 7 runs, 10,000 loops each)\n"
     ]
    }
   ],
   "source": [
    "%%timeit\n",
    "trans_vector_to_relative(np.array([10,11,13]), np.array([[1,20,300],[4,5,6],[7,8,9]]))"
   ]
  },
  {
   "cell_type": "code",
   "execution_count": 30,
   "id": "74246e57-8a98-49bb-846b-2f78d39e06ed",
   "metadata": {
    "tags": []
   },
   "outputs": [
    {
     "data": {
      "text/plain": [
       "-13.590828871125021"
      ]
     },
     "execution_count": 30,
     "metadata": {},
     "output_type": "execute_result"
    }
   ],
   "source": [
    "res1_func1(1,20,300,3.,  -15., -294.,6.,  -12., -291.,10,11,13)"
   ]
  },
  {
   "cell_type": "code",
   "execution_count": 31,
   "id": "31b56735-8ee7-4ede-a9ff-cf16fa47dae4",
   "metadata": {
    "tags": []
   },
   "outputs": [
    {
     "data": {
      "text/plain": [
       "-13.441652745731446"
      ]
     },
     "execution_count": 31,
     "metadata": {},
     "output_type": "execute_result"
    }
   ],
   "source": [
    "res2_func1(1,20,300,3.,  -15., -294.,6.,  -12., -291.,10,11,13)"
   ]
  },
  {
   "cell_type": "code",
   "execution_count": null,
   "id": "ce082db8-9442-4c39-a4ba-5f815d438518",
   "metadata": {},
   "outputs": [],
   "source": []
  },
  {
   "cell_type": "code",
   "execution_count": 32,
   "id": "09e1f1d3-ba69-436d-965b-e54a3351eee9",
   "metadata": {
    "tags": []
   },
   "outputs": [],
   "source": [
    "triangle = np.array([(0, 0, 0), (1, 2, 3), (4, 5, 6)], dtype=np.float64)"
   ]
  },
  {
   "cell_type": "code",
   "execution_count": 33,
   "id": "bd55d0de-ab52-48c2-bf88-11c94815a916",
   "metadata": {
    "tags": []
   },
   "outputs": [
    {
     "data": {
      "text/latex": [
       "$\\displaystyle \\left[\\begin{matrix}0 & 0 & 0\\\\3.74165738677394 & -1.33226762955019 \\cdot 10^{-15} & 0\\\\8.55235974119758 & 1.96396101212393 & 4.44089209850063 \\cdot 10^{-16}\\end{matrix}\\right]$"
      ],
      "text/plain": [
       "Matrix([\n",
       "[               0,                     0,                    0],\n",
       "[3.74165738677394, -1.33226762955019e-15,                    0],\n",
       "[8.55235974119758,      1.96396101212393, 4.44089209850063e-16]])"
      ]
     },
     "execution_count": 33,
     "metadata": {},
     "output_type": "execute_result"
    }
   ],
   "source": [
    "rotate_triangle_to_xy_sym(triangle)"
   ]
  },
  {
   "cell_type": "code",
   "execution_count": 34,
   "id": "03ba9555-e9e2-46da-a095-ebd2577732ac",
   "metadata": {
    "tags": []
   },
   "outputs": [
    {
     "data": {
      "text/plain": [
       "array([[ 0.00000000e+00,  0.00000000e+00,  0.00000000e+00],\n",
       "       [ 3.74165739e+00, -3.33066907e-16,  2.22044605e-16],\n",
       "       [ 8.55235974e+00,  1.96396101e+00,  0.00000000e+00]])"
      ]
     },
     "execution_count": 34,
     "metadata": {},
     "output_type": "execute_result"
    }
   ],
   "source": [
    "rotate_triangle_to_xy(triangle)"
   ]
  },
  {
   "cell_type": "code",
   "execution_count": null,
   "id": "7b2205f0-da76-4f66-a85b-2e2023474587",
   "metadata": {},
   "outputs": [],
   "source": []
  },
  {
   "cell_type": "code",
   "execution_count": null,
   "id": "9713240b-4fdf-4208-87f2-a8c1395410fe",
   "metadata": {},
   "outputs": [],
   "source": []
  },
  {
   "cell_type": "code",
   "execution_count": 35,
   "id": "a0a1cf21-9b25-40f8-827d-14f5ff709dca",
   "metadata": {
    "tags": []
   },
   "outputs": [],
   "source": [
    "plane = np.array([(0, 0, 0), (1, 2, 3), (4, 5, 6)], np.float64)"
   ]
  },
  {
   "cell_type": "code",
   "execution_count": 303,
   "id": "98207795-68f6-4938-8588-c98623ac1895",
   "metadata": {
    "tags": []
   },
   "outputs": [
    {
     "data": {
      "text/plain": [
       "array([4.11582313e+00, 2.22044605e-16, 2.77555756e-16])"
      ]
     },
     "execution_count": 303,
     "metadata": {},
     "output_type": "execute_result"
    }
   ],
   "source": [
    "trans_vector_to_relative(np.array([1.1, 2.2, 3.3]), plane)"
   ]
  },
  {
   "cell_type": "code",
   "execution_count": 304,
   "id": "1117b2b0-01f9-4b6b-b68e-6e5ae5f1f939",
   "metadata": {
    "tags": []
   },
   "outputs": [
    {
     "data": {
      "text/plain": [
       "array([ 4.11582313e+00, -1.11022302e-16,  2.22044605e-16])"
      ]
     },
     "execution_count": 304,
     "metadata": {},
     "output_type": "execute_result"
    }
   ],
   "source": [
    "qr = get_quaternion_rotation(plane)\n",
    "qr.apply(np.array([1.1, 2.2, 3.3]))"
   ]
  },
  {
   "cell_type": "code",
   "execution_count": 305,
   "id": "f5379bc4-2aa0-4938-ad8a-ad9b9fbff793",
   "metadata": {
    "tags": []
   },
   "outputs": [
    {
     "data": {
      "text/plain": [
       "array([ 4.11582313e+00,  2.20154171e-17, -1.05116220e-16])"
      ]
     },
     "execution_count": 305,
     "metadata": {},
     "output_type": "execute_result"
    }
   ],
   "source": [
    "qr = get_quaternion_rotation_np(plane)\n",
    "qr.dot(np.array([1.1, 2.2, 3.3]))"
   ]
  },
  {
   "cell_type": "code",
   "execution_count": 38,
   "id": "770764d3-5497-497d-bb06-9104e8b246a8",
   "metadata": {
    "tags": []
   },
   "outputs": [
    {
     "name": "stdout",
     "output_type": "stream",
     "text": [
      "34.9 µs ± 915 ns per loop (mean ± std. dev. of 7 runs, 10,000 loops each)\n"
     ]
    }
   ],
   "source": [
    "%%timeit\n",
    "trans_vector_to_relative(np.array([1.1, 2.2, 3.3]), plane)"
   ]
  },
  {
   "cell_type": "code",
   "execution_count": 39,
   "id": "e55d4e30-a6b7-44e6-a15e-0b3e0cafc724",
   "metadata": {
    "tags": []
   },
   "outputs": [
    {
     "name": "stdout",
     "output_type": "stream",
     "text": [
      "242 µs ± 14.2 µs per loop (mean ± std. dev. of 7 runs, 1,000 loops each)\n"
     ]
    }
   ],
   "source": [
    "%%timeit\n",
    "qr = get_quaternion_rotation(plane)\n",
    "qr.apply(np.array([1.1, 2.2, 3.3]))"
   ]
  },
  {
   "cell_type": "code",
   "execution_count": 302,
   "id": "768eb5d3-9278-4330-bde3-6bd1120a9b45",
   "metadata": {
    "tags": []
   },
   "outputs": [
    {
     "name": "stdout",
     "output_type": "stream",
     "text": [
      "208 µs ± 31.7 µs per loop (mean ± std. dev. of 7 runs, 10,000 loops each)\n"
     ]
    }
   ],
   "source": [
    "%%timeit\n",
    "qr = get_quaternion_rotation_np(plane)\n",
    "qr.dot(np.array([1.1, 2.2, 3.3]))"
   ]
  },
  {
   "cell_type": "code",
   "execution_count": null,
   "id": "2e54e5f1-855d-487d-a966-15cf5e747771",
   "metadata": {},
   "outputs": [],
   "source": []
  }
 ],
 "metadata": {
  "kernelspec": {
   "display_name": "Python 3 (ipykernel)",
   "language": "python",
   "name": "python3"
  },
  "language_info": {
   "codemirror_mode": {
    "name": "ipython",
    "version": 3
   },
   "file_extension": ".py",
   "mimetype": "text/x-python",
   "name": "python",
   "nbconvert_exporter": "python",
   "pygments_lexer": "ipython3",
   "version": "3.11.2"
  }
 },
 "nbformat": 4,
 "nbformat_minor": 5
}
