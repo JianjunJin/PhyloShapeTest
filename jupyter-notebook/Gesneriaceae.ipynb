{
 "cells": [
  {
   "cell_type": "markdown",
   "id": "85a530c4-c779-4694-88e7-33835918a1f5",
   "metadata": {},
   "source": [
    "## Preparation\n",
    "- Create output directory\n",
    "- define visualization function"
   ]
  },
  {
   "cell_type": "code",
   "execution_count": 1,
   "id": "fe54b17c-1bad-4832-aab2-7cefb1cccc72",
   "metadata": {
    "tags": []
   },
   "outputs": [
    {
     "name": "stderr",
     "output_type": "stream",
     "text": [
      "🐞 2023-05-09-16:46:20.29 | \u001b[35mlogger_setup.py | \u001b[0m\u001b[36mset_log_level             | \u001b[0m\u001b[34m\u001b[1mphyloshape v.0.0.1 logging enabled\u001b[0m\n"
     ]
    }
   ],
   "source": [
    "from phyloshape import set_log_level\n",
    "set_log_level(\"DEBUG\")\n",
    "import os\n",
    "output_dir = 'Gesneriaceae-out'\n",
    "if not os.path.isdir(output_dir):\n",
    "    os.mkdir(output_dir)"
   ]
  },
  {
   "cell_type": "code",
   "execution_count": 2,
   "id": "c6de5d52-159f-4423-b900-c9184259c78c",
   "metadata": {
    "tags": []
   },
   "outputs": [],
   "source": [
    "def visualize_points(*input_points, **kwargs):\n",
    "    plot = k3d.plot(grid_visible=False) #,\n",
    "                #camera_auto_fit=False)\n",
    "    offset_v = np.array([0, 0, 0])\n",
    "    for _points in input_points:\n",
    "        plt_points = k3d.points(_points + offset_v,\n",
    "                                point_size=kwargs.get(\"point_size\", 20),\n",
    "                                shader=\"flat\")\n",
    "        plot += plt_points\n",
    "        offset_v[0] = offset_v[0] + kwargs.get(\"xgap\", 2000)\n",
    "    return plot"
   ]
  },
  {
   "cell_type": "code",
   "execution_count": 3,
   "id": "e4c7136b-59b9-4f20-96f2-50a22928e2f4",
   "metadata": {
    "tags": []
   },
   "outputs": [],
   "source": [
    "# PCA transformator\n",
    "from sklearn.decomposition import PCA\n",
    "\n",
    "class HDTrans:\n",
    "    \n",
    "    def __init__(self):\n",
    "        self.sample_data = None\n",
    "        self.sample_size = None\n",
    "        self.each_s_shape = None\n",
    "        self.maxs = None\n",
    "        self.sample_normalized = None\n",
    "        self.pca = None\n",
    "        \n",
    "    def transform(self, sample_data):\n",
    "        if self.sample_data is None:\n",
    "            self.sample_data = sample_data\n",
    "            self.sample_size = len(self.sample_data)\n",
    "            self.each_s_shape = self.sample_data[0].shape\n",
    "            # Normalize data to [0,1] intervals. Supply the scale factor or\n",
    "            # compute the maximum value among all the samples.\n",
    "            self.maxs = np.max(sample_data)\n",
    "            self.sample_normalized = np.array([np.ravel(s) / self.maxs for s in sample_data])\n",
    "        if self.pca is None:\n",
    "            self.pca = PCA()\n",
    "            self.pca.fit(self.sample_normalized)\n",
    "        return self.pca.transform(self.sample_normalized)\n",
    "    \n",
    "    def inverse_transform(self, transformed_data_per_sample):\n",
    "        reconstructed_sample = self.pca.inverse_transform(transformed_data_per_sample)\n",
    "        reconstructed_sample *= self.maxs\n",
    "        return reconstructed_sample.reshape(self.each_s_shape)"
   ]
  },
  {
   "cell_type": "markdown",
   "id": "f96e5a49-8c82-4a88-b5f9-aa0541e5fcf5",
   "metadata": {},
   "source": [
    "## Extract the landmarks\n",
    "\n",
    "The file `../data/Gesneriaceae.Gigascience.2020/Landmark_description_rev_1205.csv` with header contains four columns, with first column being the landmark value orders (1-based index) with the string `row` at the beginning of each value, the second column being the value type (`x`, `y`, or `z`), the third being the landmark description. \n",
    "\n",
    "The landmark values of each sample is store in the headless csv files matching `r'\\d+_[A-Z]+\\d+-?\\w*_\\d+\\.csv'` under `../data/Gesneriaceae.Gigascience.2020-samples/`. Each file stores the landmark values in a single line splitted by `,` (or `\\t`) in the order recorded in `Landmark_description_rev_1205.csv`."
   ]
  },
  {
   "cell_type": "code",
   "execution_count": 4,
   "id": "770acd33-8d9f-4381-a387-b94fd42a2b62",
   "metadata": {
    "tags": []
   },
   "outputs": [],
   "source": [
    "# import csv\n",
    "# import numpy as np\n",
    "# import re\n",
    "\n",
    "# # Function to determine the file format\n",
    "# def get_delimiter(filename):\n",
    "#     with open(filename, 'r') as f:\n",
    "#         sample = f.read(1024)\n",
    "#         sniffer = csv.Sniffer()\n",
    "#         dialect = sniffer.sniff(sample)\n",
    "#         return dialect.delimiter\n",
    "\n",
    "# # Read the landmark description file\n",
    "# type_to_id = {'x': 0, 'y': 1, 'z': 2}\n",
    "# with open('../data/Gesneriaceae.Gigascience.2020/Landmark_description_rev_1205.csv', 'r') as f:\n",
    "#     reader = csv.reader(f)\n",
    "#     next(reader)  # skip header\n",
    "#     landmarks_lines = [row for row in reader]\n",
    "#     landmarks = np.zeros((len(landmarks_lines)//3, 3), dtype=np.int64)\n",
    "#     describe_to_row = {}\n",
    "#     for i, (order, value_type, describe, _) in enumerate(landmarks_lines):\n",
    "#         order = int(order[3:]) - 1  # convert to 0-based index\n",
    "#         if describe in describe_to_row:\n",
    "#             row = describe_to_row[describe]\n",
    "#         else:\n",
    "#             row = describe_to_row[describe] = order\n",
    "#         landmarks[row, type_to_id[value_type]] = order\n",
    "        \n",
    "# # Process each sample file\n",
    "# sample_dir = '../data/Gesneriaceae.Gigascience.2020/'\n",
    "# pattern = r'\\d+_[A-Z]+\\d+-?\\w*_\\d+\\.csv'\n",
    "# counter = 0\n",
    "# samples = {}\n",
    "# for filename in os.listdir(sample_dir):\n",
    "#     if re.match(pattern, filename):\n",
    "#         filepath = os.path.join(sample_dir, filename)\n",
    "#         delimiter = get_delimiter(filepath)\n",
    "#         if delimiter == '\\t':\n",
    "#             print(filepath + ' is actually TSV!')\n",
    "#         with open(filepath, 'r') as f:\n",
    "#             # all the sample files have the .csv extension but some of them are actually in TSV format!!!\n",
    "#             reader = csv.reader(f, delimiter=delimiter)\n",
    "#             values = next(reader)\n",
    "#             samples[filename[:-4]] = np.take(values, landmarks).astype(np.float64)\n",
    "#         # Save the result to a new csv file\n",
    "#         np.savetxt(os.path.join(output_dir, f'{os.path.splitext(filename)[0]}_landmarks.tab'), samples[filename[:-4]], delimiter='\\t', fmt='%.6f')\n",
    "#         # with open(os.path.join(output_dir, f'{os.path.splitext(filename)[0]}_landmarks.csv'), 'w') as f:\n",
    "#         #     writer = csv.writer(f)\n",
    "#         #     writer.writerows(result)\n",
    "#         counter += 1\n",
    "# print(f'{counter} samples extracted!')"
   ]
  },
  {
   "cell_type": "code",
   "execution_count": 5,
   "id": "7df99274-e4a7-4644-be01-6c8b14b63cbf",
   "metadata": {
    "tags": []
   },
   "outputs": [],
   "source": [
    "import numpy as np\n",
    "samples = {}\n",
    "for filename in os.listdir(output_dir):\n",
    "    if filename.endswith(\"_landmarks.tab\"):\n",
    "        sample_n = filename.replace(\"_landmarks.tab\", \"\")\n",
    "        samples[sample_n] = np.loadtxt(os.path.join(output_dir, filename), dtype=np.float64, delimiter=\"\\t\")"
   ]
  },
  {
   "cell_type": "markdown",
   "id": "4f21c155-cadc-461f-bdd1-b44b120cb22a",
   "metadata": {},
   "source": [
    "#### Use extracted instead"
   ]
  },
  {
   "cell_type": "markdown",
   "id": "c2e56942-9a71-44b1-989b-59bf45f2b231",
   "metadata": {
    "tags": []
   },
   "source": [
    "## Plot the point cloud"
   ]
  },
  {
   "cell_type": "code",
   "execution_count": 6,
   "id": "cbf5aac0-61a4-452a-842b-618fcd684a69",
   "metadata": {
    "tags": []
   },
   "outputs": [],
   "source": [
    "import k3d\n",
    "from phyloshape import *\n",
    "from phyloshape.shape.src.vectors import VertexVectorMapper"
   ]
  },
  {
   "cell_type": "code",
   "execution_count": 7,
   "id": "adf32c64-3a80-4e10-9a71-067da1f21d40",
   "metadata": {
    "tags": []
   },
   "outputs": [
    {
     "data": {
      "text/plain": [
       "152"
      ]
     },
     "execution_count": 7,
     "metadata": {},
     "output_type": "execute_result"
    }
   ],
   "source": [
    "len(samples)"
   ]
  },
  {
   "cell_type": "code",
   "execution_count": 8,
   "id": "82dd8138-cc48-422b-8d01-e1429fb87dda",
   "metadata": {
    "tags": []
   },
   "outputs": [],
   "source": [
    "# test_sample = '07_K039091_08'\n",
    "test_sample = '12_K039105_04'"
   ]
  },
  {
   "cell_type": "code",
   "execution_count": 9,
   "id": "0b1ed629-00a6-4b40-a695-2d2c27a6e523",
   "metadata": {
    "tags": []
   },
   "outputs": [
    {
     "name": "stderr",
     "output_type": "stream",
     "text": [
      "/home/jianjun/mambaforge/envs/phyloshape/lib/python3.11/site-packages/traittypes/traittypes.py:97: UserWarning: Given trait value dtype \"float64\" does not match required type \"float32\". A coerced copy has been created.\n",
      "  warnings.warn(\n"
     ]
    },
    {
     "data": {
      "application/vnd.jupyter.widget-view+json": {
       "model_id": "2770758648d748b8a2b74ed38d3323af",
       "version_major": 2,
       "version_minor": 0
      },
      "text/plain": [
       "Plot(antialias=3, axes=['x', 'y', 'z'], axes_helper=1.0, axes_helper_colors=[16711680, 65280, 255], background…"
      ]
     },
     "execution_count": 9,
     "metadata": {},
     "output_type": "execute_result"
    }
   ],
   "source": [
    "visualize_points(samples[test_sample].astype(np.float32))\n",
    "# 123 is the outlier, described as Left_dorsal_lobe_midrib_proximal_end_primary_landmark/Left_dorsal_tube_midrib_distal_end_primary_landmark"
   ]
  },
  {
   "cell_type": "markdown",
   "id": "ab23a635-d55f-430e-afa0-7bd57f1c919d",
   "metadata": {},
   "source": [
    "## test the vertices-based system mapper"
   ]
  },
  {
   "cell_type": "code",
   "execution_count": 10,
   "id": "d35d9405-f515-4ba0-9672-d0d6aa2da809",
   "metadata": {
    "tags": []
   },
   "outputs": [],
   "source": [
    "# test_sample = '07_K039091_08'\n",
    "# test_sample = '58_HC5803-7_09'\n",
    "alignment = ShapeAlignment()\n",
    "for s_n, s_v in samples.items():\n",
    "    alignment.append(label=s_n, sample=Vertices(coords=s_v))"
   ]
  },
  {
   "cell_type": "code",
   "execution_count": 11,
   "id": "b028fbef-e668-430d-9bc1-8aa0380ce49d",
   "metadata": {
    "tags": []
   },
   "outputs": [
    {
     "data": {
      "text/plain": [
       "420"
      ]
     },
     "execution_count": 11,
     "metadata": {},
     "output_type": "execute_result"
    }
   ],
   "source": [
    "s_label, s_vertices = alignment[test_sample]\n",
    "len(s_vertices)"
   ]
  },
  {
   "cell_type": "code",
   "execution_count": 12,
   "id": "c3170c95-4751-4537-add5-8db9d3c9a898",
   "metadata": {
    "tags": []
   },
   "outputs": [
    {
     "name": "stderr",
     "output_type": "stream",
     "text": [
      "ℹ️ 2023-05-09-16:46:21.09 | \u001b[35m       shape.py | \u001b[0m\u001b[36mfind_duplicate            | \u001b[0m\u001b[1m411 ouf of 420 sample-wide unique points\u001b[0m\n"
     ]
    }
   ],
   "source": [
    "alignment.deduplicate()"
   ]
  },
  {
   "cell_type": "code",
   "execution_count": 13,
   "id": "811b6ba4-f435-4a3d-83be-462cdecb3e2d",
   "metadata": {
    "tags": []
   },
   "outputs": [],
   "source": [
    "# 123 is the outlier, described as Left_dorsal_lobe_midrib_proximal_end_primary_landmark/Left_dorsal_tube_midrib_distal_end_primary_landmark\n",
    "alignment.del_vertices(123)"
   ]
  },
  {
   "cell_type": "code",
   "execution_count": 14,
   "id": "50082971-eb83-4fda-957c-664b065711e9",
   "metadata": {
    "tags": []
   },
   "outputs": [
    {
     "data": {
      "text/plain": [
       "410"
      ]
     },
     "execution_count": 14,
     "metadata": {},
     "output_type": "execute_result"
    }
   ],
   "source": [
    "s_label, s_vertices = alignment[test_sample]\n",
    "len(s_vertices)"
   ]
  },
  {
   "cell_type": "code",
   "execution_count": 15,
   "id": "203cd9e9-798c-4cee-a101-1cd80a0789f2",
   "metadata": {
    "tags": []
   },
   "outputs": [
    {
     "data": {
      "application/vnd.jupyter.widget-view+json": {
       "model_id": "086eede4b1044d328d8ef68f87ba86b8",
       "version_major": 2,
       "version_minor": 0
      },
      "text/plain": [
       "Plot(antialias=3, axes=['x', 'y', 'z'], axes_helper=1.0, axes_helper_colors=[16711680, 65280, 255], background…"
      ]
     },
     "execution_count": 15,
     "metadata": {},
     "output_type": "execute_result"
    }
   ],
   "source": [
    "visualize_points(s_vertices.coords)"
   ]
  },
  {
   "cell_type": "code",
   "execution_count": 16,
   "id": "0e7e4b85-f236-4b02-8844-9deafe7dbda1",
   "metadata": {
    "tags": []
   },
   "outputs": [
    {
     "data": {
      "application/vnd.jupyter.widget-view+json": {
       "model_id": "9c5316c75fce4857bec49b0449dd0c8b",
       "version_major": 2,
       "version_minor": 0
      },
      "text/plain": [
       "Plot(antialias=3, axes=['x', 'y', 'z'], axes_helper=1.0, axes_helper_colors=[16711680, 65280, 255], background…"
      ]
     },
     "execution_count": 16,
     "metadata": {},
     "output_type": "execute_result"
    }
   ],
   "source": [
    "# works in old system\n",
    "from phyloshape.shape.src.vectors import VertexVectorMapperOld\n",
    "old_mapper = VertexVectorMapperOld(s_vertices.coords)\n",
    "old_new_vs = old_mapper.to_vertices(old_mapper.to_vectors(s_vertices.coords))\n",
    "visualize_points(old_new_vs)"
   ]
  },
  {
   "cell_type": "code",
   "execution_count": 17,
   "id": "4be1054f-281a-45e6-bbd9-aa8990fb221d",
   "metadata": {
    "tags": []
   },
   "outputs": [
    {
     "name": "stderr",
     "output_type": "stream",
     "text": [
      "ℹ️ 2023-05-09-16:46:21.30 | \u001b[35m     vectors.py | \u001b[0m\u001b[36mcheck_duplicates          | \u001b[0m\u001b[1m410 ouf of 410 sample-wide unique points\u001b[0m\n"
     ]
    }
   ],
   "source": [
    "mapper = VertexVectorMapper(alignment.get_vertices_list(), mode=\"linear-variation\")  # linear-variation, linear-random, network-local"
   ]
  },
  {
   "cell_type": "code",
   "execution_count": 18,
   "id": "7bb2c70d-e52e-4611-bbe5-29f83787dd81",
   "metadata": {
    "tags": []
   },
   "outputs": [
    {
     "data": {
      "text/plain": [
       "419"
      ]
     },
     "execution_count": 18,
     "metadata": {},
     "output_type": "execute_result"
    }
   ],
   "source": [
    "len(mapper._vh_bundle_list)"
   ]
  },
  {
   "cell_type": "code",
   "execution_count": 19,
   "id": "3fb7c2b1-411c-4283-9436-fbb7c8739c08",
   "metadata": {
    "tags": []
   },
   "outputs": [],
   "source": [
    "# this_coords = s_vertices.coords\n",
    "# preorder_traverse = mapper.get_lines_for_k3d_plot()\n",
    "# from phyloshape.utils import rgb_to_hex\n",
    "# from colorsys import hsv_to_rgb\n",
    "# HSV_vals = [(0.5, x*1.0/len(this_coords), x*1.0/len(this_coords)) for x in range(len(this_coords))]\n",
    "# RGB_vals = np.array([hsv_to_rgb(*_hsv) for _hsv in HSV_vals])\n",
    "# HEX_vals = rgb_to_hex(RGB_vals * 256)\n",
    "# plot = k3d.plot()\n",
    "# plot += k3d.points(this_coords, colors=HEX_vals[preorder_traverse[:len(HEX_vals)]], point_size=50)\n",
    "# plot += k3d.line(this_coords[preorder_traverse][:4], shader=\"simple\", width=.3, color=0xff0000)\n",
    "# # for go_v, v_tri in enumerate(this_coords[preorder_traverse[:int(len(preorder_traverse)/2)]]):\n",
    "# # plot += k3d.line(v_tri, shader=\"simple\", width=200, color=0xff0000)# int(HEX_vals[go_v]))\n",
    "# plot"
   ]
  },
  {
   "cell_type": "code",
   "execution_count": 20,
   "id": "52891d2a-07a8-4587-8f53-2492aadee7c9",
   "metadata": {
    "tags": []
   },
   "outputs": [
    {
     "data": {
      "text/plain": [
       "array([[ 8.73249590e+01,  0.00000000e+00,  0.00000000e+00],\n",
       "       [ 5.01472244e+01,  1.47084229e+02, -7.58112901e-06],\n",
       "       [-3.71777344e+01,  1.47084229e+02, -5.00966871e-06],\n",
       "       ...,\n",
       "       [ 1.45454674e+01, -1.42705505e+02, -2.04595367e+02],\n",
       "       [ 2.11604782e+02,  1.83102203e+02, -5.26193008e+01],\n",
       "       [ 2.42806091e+02, -1.68711121e+02,  1.83234497e+02]])"
      ]
     },
     "execution_count": 20,
     "metadata": {},
     "output_type": "execute_result"
    }
   ],
   "source": [
    "vects = mapper.to_vectors(s_vertices.coords)\n",
    "vects"
   ]
  },
  {
   "cell_type": "code",
   "execution_count": 21,
   "id": "43c5a4f4-6bba-4f90-8d01-a0462dd771fc",
   "metadata": {
    "tags": []
   },
   "outputs": [
    {
     "name": "stderr",
     "output_type": "stream",
     "text": [
      "🐞 2023-05-09-16:46:28.67 | \u001b[35m     vectors.py | \u001b[0m\u001b[36m__updating_vertices       | \u001b[0m\u001b[34m\u001b[1mtotal num of iterations: 5\u001b[0m\n"
     ]
    }
   ],
   "source": [
    "# convert vects back to vertices\n",
    "new_s = mapper.to_vertices(vects)"
   ]
  },
  {
   "cell_type": "code",
   "execution_count": 22,
   "id": "2c86cc12-bcae-40d5-8a03-35b86fd52641",
   "metadata": {
    "tags": []
   },
   "outputs": [],
   "source": [
    "# mapper._debug_vertices"
   ]
  },
  {
   "cell_type": "code",
   "execution_count": 23,
   "id": "0883677c-b1b8-48a1-ada2-6101705818c1",
   "metadata": {
    "tags": []
   },
   "outputs": [
    {
     "data": {
      "application/vnd.jupyter.widget-view+json": {
       "model_id": "fef1f48f77704179b409bc30535f004a",
       "version_major": 2,
       "version_minor": 0
      },
      "text/plain": [
       "Plot(antialias=3, axes=['x', 'y', 'z'], axes_helper=1.0, axes_helper_colors=[16711680, 65280, 255], background…"
      ]
     },
     "execution_count": 23,
     "metadata": {},
     "output_type": "execute_result"
    }
   ],
   "source": [
    "visualize_points(s_vertices.coords)  #  123 is the outlier"
   ]
  },
  {
   "cell_type": "code",
   "execution_count": 24,
   "id": "639aea46-2a0b-4a9f-947e-b58d441e506c",
   "metadata": {
    "tags": []
   },
   "outputs": [
    {
     "data": {
      "application/vnd.jupyter.widget-view+json": {
       "model_id": "6814147af582463f851537ec841d7264",
       "version_major": 2,
       "version_minor": 0
      },
      "text/plain": [
       "Plot(antialias=3, axes=['x', 'y', 'z'], axes_helper=1.0, axes_helper_colors=[16711680, 65280, 255], background…"
      ]
     },
     "execution_count": 24,
     "metadata": {},
     "output_type": "execute_result"
    }
   ],
   "source": [
    "visualize_points(new_s)  # 0,123,279 were the outliers in the linear-variation mode with the variation summing bug"
   ]
  },
  {
   "cell_type": "markdown",
   "id": "7ef262f2-0e00-42dc-9ee8-11f76202faae",
   "metadata": {},
   "source": [
    "## Test Phyloshape using minimal tree"
   ]
  },
  {
   "cell_type": "code",
   "execution_count": 25,
   "id": "f148fbb6-2c6a-4b80-bac4-e7cc64948ff5",
   "metadata": {
    "tags": []
   },
   "outputs": [],
   "source": [
    "import csv\n",
    "sample_to_species = {}\n",
    "with open(\"../data/Gesneriaceae.Gigascience.2020/samples.manual_sum.tab\") as read_sample_info:\n",
    "    csv_reader = csv.reader(read_sample_info, delimiter='\\t')\n",
    "    next(csv_reader)  # skip header\n",
    "    for sample_, species_, *foo in csv_reader:\n",
    "        sample_to_species[sample_] = species_"
   ]
  },
  {
   "cell_type": "code",
   "execution_count": 26,
   "id": "583ad716-1c30-4ee3-975c-5f63210395df",
   "metadata": {
    "tags": []
   },
   "outputs": [],
   "source": [
    "minimal_tree_str = \"((((19_K039112_04:0.001,19_K039112_05:0.001):0.013,63_K039178_01:0.018):0.002,58_HC5803-7_09:0.025):0.003,22_K039118_03:0.012);\""
   ]
  },
  {
   "cell_type": "code",
   "execution_count": 27,
   "id": "8b27c8e3-3839-4d84-930f-396375b08603",
   "metadata": {},
   "outputs": [],
   "source": [
    "from phyloshape import ShapeAlignment, PhyloShape, Brownian\n",
    "from toytree.io.src import newick"
   ]
  },
  {
   "cell_type": "code",
   "execution_count": 28,
   "id": "16f079eb-430c-433b-a07c-f2a14ea93b14",
   "metadata": {
    "tags": []
   },
   "outputs": [
    {
     "data": {
      "text/plain": [
       "(<toyplot.canvas.Canvas at 0x7f450bf03e10>,\n",
       " <toyplot.coordinates.Cartesian at 0x7f451e4e5910>,\n",
       " <toytree.drawing.src.toytree_mark.ToytreeMark at 0x7f450bdf6790>)"
      ]
     },
     "execution_count": 28,
     "metadata": {},
     "output_type": "execute_result"
    },
    {
     "data": {
      "text/html": [
       "<div class=\"toyplot\" id=\"t423a8d102717485ba00776ffdfbdcc34\" style=\"text-align:center\"><svg class=\"toyplot-canvas-Canvas\" xmlns:toyplot=\"http://www.sandia.gov/toyplot\" xmlns:xlink=\"http://www.w3.org/1999/xlink\" xmlns=\"http://www.w3.org/2000/svg\" width=\"450.0px\" height=\"275.0px\" viewBox=\"0 0 450.0 275.0\" preserveAspectRatio=\"xMidYMid meet\" style=\"background-color:transparent;border-color:#292724;border-style:none;border-width:1.0;fill:rgb(16.1%,15.3%,14.1%);fill-opacity:1.0;font-family:Helvetica;font-size:12px;opacity:1.0;stroke:rgb(16.1%,15.3%,14.1%);stroke-opacity:1.0;stroke-width:1.0\" id=\"te7e1ccc33eac4d40bbe78558b435b8fc\"><g class=\"toyplot-coordinates-Cartesian\" id=\"te220f98701d444129119cf62b47eecc2\"><clipPath id=\"t199c8ed555264a089bd5570738651049\"><rect x=\"35.0\" y=\"35.0\" width=\"380.0\" height=\"205.0\"></rect></clipPath><g clip-path=\"url(#t199c8ed555264a089bd5570738651049)\"><g class=\"toytree-mark-Toytree\" id=\"t2a8b2c2781fb436a9b1cc8735f6bb45d\"><g class=\"toytree-Edges\" style=\"stroke:rgb(16.1%,15.3%,14.1%);stroke-opacity:1.0;stroke-linecap:round;stroke-width:2.0;fill:none\"><path d=\"M 159.8 197.9 L 159.8 218.1 L 165.7 218.1\" id=\"5,0\" style=\"\"></path><path d=\"M 159.8 197.9 L 159.8 177.8 L 165.7 177.8\" id=\"5,1\" style=\"\"></path><path d=\"M 83.1 167.7 L 83.1 137.5 L 189.4 137.5\" id=\"6,2\" style=\"\"></path><path d=\"M 71.3 132.5 L 71.3 97.2 L 218.9 97.2\" id=\"7,3\" style=\"\"></path><path d=\"M 53.5 94.7 L 53.5 56.9 L 124.4 56.9\" id=\"8,4\" style=\"\"></path><path d=\"M 83.1 167.7 L 83.1 197.9 L 159.8 197.9\" id=\"6,5\" style=\"\"></path><path d=\"M 71.3 132.5 L 71.3 167.7 L 83.1 167.7\" id=\"7,6\" style=\"\"></path><path d=\"M 53.5 94.7 L 53.5 132.5 L 71.3 132.5\" id=\"8,7\" style=\"\"></path></g><g class=\"toytree-Nodes\" style=\"fill:rgb(40.0%,76.1%,64.7%);fill-opacity:1.0;stroke:rgb(14.9%,14.9%,14.9%);stroke-opacity:1.0;stroke-width:1.5\"><g id=\"Node-5\" transform=\"translate(159.838,197.944)\"><circle r=\"7.5\"></circle></g><g id=\"Node-6\" transform=\"translate(83.069,167.722)\"><circle r=\"7.5\"></circle></g><g id=\"Node-7\" transform=\"translate(71.259,132.463)\"><circle r=\"7.5\"></circle></g><g id=\"Node-8\" transform=\"translate(53.543,94.685)\"><circle r=\"7.5\"></circle></g></g><g class=\"toytree-NodeLabels\" style=\"font-family:Helvetica;font-size:9.0px;font-weight:300;vertical-align:baseline;white-space:pre;stroke:none\"><g class=\"toytree-NodeLabel\" transform=\"translate(160,198)\"><text x=\"-2.5020000000000002\" y=\"2.2995\" style=\"fill:rgb(16.1%,15.3%,14.1%);fill-opacity:1.0\">5</text></g><g class=\"toytree-NodeLabel\" transform=\"translate(83.1,168)\"><text x=\"-2.5020000000000002\" y=\"2.2995\" style=\"fill:rgb(16.1%,15.3%,14.1%);fill-opacity:1.0\">6</text></g><g class=\"toytree-NodeLabel\" transform=\"translate(71.3,132)\"><text x=\"-2.5020000000000002\" y=\"2.2995\" style=\"fill:rgb(16.1%,15.3%,14.1%);fill-opacity:1.0\">7</text></g><g class=\"toytree-NodeLabel\" transform=\"translate(53.5,94.7)\"><text x=\"-2.5020000000000002\" y=\"2.2995\" style=\"fill:rgb(16.1%,15.3%,14.1%);fill-opacity:1.0\">8</text></g></g><g class=\"toytree-TipLabels\" style=\"fill:rgb(16.1%,15.3%,14.1%);fill-opacity:1.0;font-family:Helvetica;font-size:11.0px;font-weight:300;vertical-align:baseline;white-space:pre;stroke:none\"><g class=\"toytree-TipLabel\" transform=\"translate(166,218)\"><text x=\"15.0\" y=\"2.8104999999999993\" style=\"fill:rgb(16.1%,15.3%,14.1%);fill-opacity:1.0\">Sinningia carangolensis  (19_K039112_04)</text></g><g class=\"toytree-TipLabel\" transform=\"translate(166,178)\"><text x=\"15.0\" y=\"2.8104999999999993\" style=\"fill:rgb(16.1%,15.3%,14.1%);fill-opacity:1.0\">Sinningia carangolensis  (19_K039112_05)</text></g><g class=\"toytree-TipLabel\" transform=\"translate(189,138)\"><text x=\"15.0\" y=\"2.8104999999999993\" style=\"fill:rgb(16.1%,15.3%,14.1%);fill-opacity:1.0\">Sinningia sceptrum (63_K039178_01)</text></g><g class=\"toytree-TipLabel\" transform=\"translate(219,97.2)\"><text x=\"15.0\" y=\"2.8104999999999993\" style=\"fill:rgb(16.1%,15.3%,14.1%);fill-opacity:1.0\">Sinningia pusilla (58_HC5803-7_09)</text></g><g class=\"toytree-TipLabel\" transform=\"translate(124,56.9)\"><text x=\"15.0\" y=\"2.8104999999999993\" style=\"fill:rgb(16.1%,15.3%,14.1%);fill-opacity:1.0\">Sinningia concinna  (22_K039118_03)</text></g></g></g></g></g></svg><div class=\"toyplot-behavior\"><script>(function()\n",
       "{\n",
       "var modules={};\n",
       "})();</script></div></div>"
      ]
     },
     "metadata": {},
     "output_type": "display_data"
    }
   ],
   "source": [
    "minimal_tree = newick.parse_newick_string(minimal_tree_str)\n",
    "minimal_tree.draw(node_labels=True, node_sizes=15, tip_labels=[f\"{sample_to_species[raw_tip]} ({raw_tip})\" for raw_tip in minimal_tree.get_tip_labels()])"
   ]
  },
  {
   "cell_type": "code",
   "execution_count": 29,
   "id": "85d4824d-ce60-4030-ac7f-4947922c74f5",
   "metadata": {},
   "outputs": [
    {
     "name": "stderr",
     "output_type": "stream",
     "text": [
      "ℹ️ 2023-05-09-16:46:28.78 | \u001b[35m       shape.py | \u001b[0m\u001b[36mfind_duplicate            | \u001b[0m\u001b[1m411 ouf of 420 sample-wide unique points\u001b[0m\n"
     ]
    }
   ],
   "source": [
    "alignment = ShapeAlignment()\n",
    "for node_id in range(minimal_tree.ntips):\n",
    "    s_n = minimal_tree[node_id].name\n",
    "    alignment.append(label=s_n, sample=Vertices(coords=samples[s_n]))\n",
    "alignment.deduplicate()"
   ]
  },
  {
   "cell_type": "markdown",
   "id": "3e3814b6-b234-444c-9280-f240ab7da419",
   "metadata": {},
   "source": [
    "## Use Generalized Procrustes Analysis"
   ]
  },
  {
   "cell_type": "code",
   "execution_count": 30,
   "id": "042fd4bd-3355-433d-830d-364ae38db4d7",
   "metadata": {
    "tags": []
   },
   "outputs": [
    {
     "name": "stderr",
     "output_type": "stream",
     "text": [
      "ℹ️ 2023-05-09-16:46:28.80 | \u001b[35m       phylo.py | \u001b[0m\u001b[36mbuild_tip_moves           | \u001b[0m\u001b[1mDimension (411, 3) -> (5,)\u001b[0m\n",
      "ℹ️ 2023-05-09-16:46:28.80 | \u001b[35m       phylo.py | \u001b[0m\u001b[36mbuild_tip_moves           | \u001b[0m\u001b[1mPost-GPA moves for 5 tips assigned.\u001b[0m\n",
      "ℹ️ 2023-05-09-16:46:28.80 | \u001b[35m       phylo.py | \u001b[0m\u001b[36msym_ancestral_state       | \u001b[0m\u001b[1mMoves for 4 ancestral nodes symbolized.\u001b[0m\n",
      "ℹ️ 2023-05-09-16:46:29.14 | \u001b[35m       phylo.py | \u001b[0m\u001b[36mformularize_log_like      | \u001b[0m\u001b[1mNum of variables: 21\u001b[0m\n",
      "ℹ️ 2023-05-09-16:46:29.14 | \u001b[35m       phylo.py | \u001b[0m\u001b[36mformularize_log_like      | \u001b[0m\u001b[1mLog-likelihood formula constructed.\u001b[0m\n",
      "ℹ️ 2023-05-09-16:46:29.16 | \u001b[35m       phylo.py | \u001b[0m\u001b[36mminimize_negloglike       | \u001b[0m\u001b[1mSearching for the best solution ..\u001b[0m\n",
      "ℹ️ 2023-05-09-16:46:29.25 | \u001b[35m       phylo.py | \u001b[0m\u001b[36mminimize_negloglike       | \u001b[0m\u001b[1mLoglikelihood: 16.886199352346683\u001b[0m\n",
      "ℹ️ 2023-05-09-16:46:29.25 | \u001b[35m       phylo.py | \u001b[0m\u001b[36m__summarize_ml_result     | \u001b[0m\u001b[1msigma^2=169.306238\u001b[0m\n"
     ]
    }
   ],
   "source": [
    "# define the PCA transformer\n",
    "hd_trans = HDTrans()\n",
    "# define the tree\n",
    "minimal_tree = newick.parse_newick_string(minimal_tree_str)\n",
    "# define the phyloshape object\n",
    "ps_gpa = PhyloShape(tree_obj=minimal_tree, shape_alignments=alignment, model=Brownian(), dim_transform=hd_trans.transform, dim_inverse_transform=hd_trans.inverse_transform)\n",
    "ps_gpa.reconstruct_ancestral_shapes_using_gpa(scale=True)"
   ]
  },
  {
   "cell_type": "code",
   "execution_count": 33,
   "id": "83f1cfda-a247-461c-b874-852424a183a5",
   "metadata": {
    "tags": []
   },
   "outputs": [
    {
     "name": "stderr",
     "output_type": "stream",
     "text": [
      "/home/jianjun/mambaforge/envs/phyloshape/lib/python3.11/site-packages/traittypes/traittypes.py:97: UserWarning: Given trait value dtype \"float64\" does not match required type \"float32\". A coerced copy has been created.\n",
      "  warnings.warn(\n"
     ]
    },
    {
     "data": {
      "application/vnd.jupyter.widget-view+json": {
       "model_id": "60eb447b4ce7435da204cc0f6264e05d",
       "version_major": 2,
       "version_minor": 0
      },
      "text/plain": [
       "Plot(antialias=3, axes=['x', 'y', 'z'], axes_helper=1.0, axes_helper_colors=[16711680, 65280, 255], background…"
      ]
     },
     "execution_count": 33,
     "metadata": {},
     "output_type": "execute_result"
    }
   ],
   "source": [
    "visualize_points(*[ps_gpa.tree[node_id].vertices.coords for node_id in range(ps_gpa.tree.nnodes)])"
   ]
  },
  {
   "cell_type": "markdown",
   "id": "26011d68-cbfc-401f-b8cc-7e5ea585704c",
   "metadata": {},
   "source": [
    "### using the linear-variation with num_vs=100"
   ]
  },
  {
   "cell_type": "code",
   "execution_count": 34,
   "id": "c2e06ee8-246b-445c-bd57-39ce0bf12376",
   "metadata": {
    "tags": []
   },
   "outputs": [
    {
     "name": "stderr",
     "output_type": "stream",
     "text": [
      "ℹ️ 2023-05-09-16:47:24.62 | \u001b[35m     vectors.py | \u001b[0m\u001b[36mcheck_duplicates          | \u001b[0m\u001b[1m411 ouf of 411 sample-wide unique points\u001b[0m\n",
      "ℹ️ 2023-05-09-16:47:25.65 | \u001b[35m       phylo.py | \u001b[0m\u001b[36mbuild_vv_translator       | \u001b[0m\u001b[1mVertex:Vector (511:510) translator built.\u001b[0m\n",
      "ℹ️ 2023-05-09-16:47:43.47 | \u001b[35m       phylo.py | \u001b[0m\u001b[36mbuild_tip_vectors         | \u001b[0m\u001b[1mDimension (46050, 3) -> (5,)\u001b[0m\n",
      "ℹ️ 2023-05-09-16:47:43.47 | \u001b[35m       phylo.py | \u001b[0m\u001b[36mbuild_tip_vectors         | \u001b[0m\u001b[1mVectors for 5 tips built.\u001b[0m\n",
      "ℹ️ 2023-05-09-16:47:43.47 | \u001b[35m       phylo.py | \u001b[0m\u001b[36msym_ancestral_state       | \u001b[0m\u001b[1mVectors for 4 ancestral nodes symbolized.\u001b[0m\n",
      "ℹ️ 2023-05-09-16:47:43.47 | \u001b[35m       phylo.py | \u001b[0m\u001b[36mformularize_log_like      | \u001b[0m\u001b[1mNum of variables: 21\u001b[0m\n",
      "ℹ️ 2023-05-09-16:47:43.47 | \u001b[35m       phylo.py | \u001b[0m\u001b[36mformularize_log_like      | \u001b[0m\u001b[1mLog-likelihood formula constructed.\u001b[0m\n",
      "ℹ️ 2023-05-09-16:47:43.49 | \u001b[35m       phylo.py | \u001b[0m\u001b[36mminimize_negloglike       | \u001b[0m\u001b[1mSearching for the best solution ..\u001b[0m\n",
      "ℹ️ 2023-05-09-16:47:43.58 | \u001b[35m       phylo.py | \u001b[0m\u001b[36mminimize_negloglike       | \u001b[0m\u001b[1mLoglikelihood: 94.4574282983511\u001b[0m\n",
      "ℹ️ 2023-05-09-16:47:43.58 | \u001b[35m       phylo.py | \u001b[0m\u001b[36m__summarize_ml_result     | \u001b[0m\u001b[1msigma^2=8477.462146\u001b[0m\n",
      "🐞 2023-05-09-16:47:56.72 | \u001b[35m     vectors.py | \u001b[0m\u001b[36m__updating_vertices       | \u001b[0m\u001b[34m\u001b[1mtotal num of iterations: 5\u001b[0m\n",
      "🐞 2023-05-09-16:48:09.23 | \u001b[35m     vectors.py | \u001b[0m\u001b[36m__updating_vertices       | \u001b[0m\u001b[34m\u001b[1mtotal num of iterations: 5\u001b[0m\n",
      "🐞 2023-05-09-16:48:21.62 | \u001b[35m     vectors.py | \u001b[0m\u001b[36m__updating_vertices       | \u001b[0m\u001b[34m\u001b[1mtotal num of iterations: 5\u001b[0m\n",
      "🐞 2023-05-09-16:48:34.74 | \u001b[35m     vectors.py | \u001b[0m\u001b[36m__updating_vertices       | \u001b[0m\u001b[34m\u001b[1mtotal num of iterations: 5\u001b[0m\n"
     ]
    }
   ],
   "source": [
    "num_vt_iter = 5\n",
    "# define the PCA transformer\n",
    "vector_trans = HDTrans()\n",
    "# define the tree\n",
    "minimal_tree = newick.parse_newick_string(minimal_tree_str)\n",
    "# define the phyloshape object\n",
    "ps = PhyloShape(tree_obj=minimal_tree, shape_alignments=alignment, model=Brownian(), dim_transform=vector_trans.transform, dim_inverse_transform=vector_trans.inverse_transform)\n",
    "# ps = PhyloShape(tree_obj=minimal_tree, shape_alignments=alignment, model=Brownian())\n",
    "ps.reconstruct_ancestral_shapes_using_ml(mode=\"linear-variation\", num_vs=100, num_vt_iter=num_vt_iter)  # old, linear-variation, linear-random, network-local"
   ]
  },
  {
   "cell_type": "code",
   "execution_count": 35,
   "id": "1573078a-8239-4999-b02c-8a420f6bc610",
   "metadata": {
    "tags": []
   },
   "outputs": [
    {
     "data": {
      "text/plain": [
       "[[392.35211965913936, 173.10776992656653],\n",
       " [27.934014298883667, 37.56855898555182],\n",
       " [11.4511394067966, 1.5801692522866366],\n",
       " [11.708944778358065, 1.4638768204822996]]"
      ]
     },
     "execution_count": 35,
     "metadata": {},
     "output_type": "execute_result"
    }
   ],
   "source": [
    "diffs = []\n",
    "for go_iter in range(1, num_vt_iter):\n",
    "    diff = np.linalg.norm(ps.vv_translator._debug_vertices[go_iter]-ps.vv_translator._debug_vertices[go_iter-1], axis=1)\n",
    "    diffs.append([np.mean(diff), np.std(diff)])\n",
    "diffs"
   ]
  },
  {
   "cell_type": "code",
   "execution_count": 36,
   "id": "c8ce145e-be2e-4cc1-9b5c-7178d66f9d87",
   "metadata": {
    "tags": []
   },
   "outputs": [
    {
     "name": "stderr",
     "output_type": "stream",
     "text": [
      "/home/jianjun/mambaforge/envs/phyloshape/lib/python3.11/site-packages/traittypes/traittypes.py:97: UserWarning: Given trait value dtype \"float64\" does not match required type \"float32\". A coerced copy has been created.\n",
      "  warnings.warn(\n"
     ]
    },
    {
     "data": {
      "application/vnd.jupyter.widget-view+json": {
       "model_id": "84cf70a07b6a42048545c4a5b0e94c5b",
       "version_major": 2,
       "version_minor": 0
      },
      "text/plain": [
       "Plot(antialias=3, axes=['x', 'y', 'z'], axes_helper=1.0, axes_helper_colors=[16711680, 65280, 255], background…"
      ]
     },
     "execution_count": 36,
     "metadata": {},
     "output_type": "execute_result"
    }
   ],
   "source": [
    "visualize_points(ps.tree[8].vertices.coords, point_size=20)"
   ]
  },
  {
   "cell_type": "code",
   "execution_count": 37,
   "id": "72373f50-3cfe-4293-b651-a29a785bbce5",
   "metadata": {
    "tags": []
   },
   "outputs": [
    {
     "data": {
      "text/plain": [
       "(<toyplot.canvas.Canvas at 0x7f4507ffdc50>,\n",
       " <toyplot.coordinates.Cartesian at 0x7f4508f94510>,\n",
       " <toytree.drawing.src.toytree_mark.ToytreeMark at 0x7f4507f09d10>)"
      ]
     },
     "execution_count": 37,
     "metadata": {},
     "output_type": "execute_result"
    },
    {
     "data": {
      "text/html": [
       "<div class=\"toyplot\" id=\"tdd0b478f5d2946e7ae2539bd6b25e672\" style=\"text-align:center\"><svg class=\"toyplot-canvas-Canvas\" xmlns:toyplot=\"http://www.sandia.gov/toyplot\" xmlns:xlink=\"http://www.w3.org/1999/xlink\" xmlns=\"http://www.w3.org/2000/svg\" width=\"450.0px\" height=\"275.0px\" viewBox=\"0 0 450.0 275.0\" preserveAspectRatio=\"xMidYMid meet\" style=\"background-color:transparent;border-color:#292724;border-style:none;border-width:1.0;fill:rgb(16.1%,15.3%,14.1%);fill-opacity:1.0;font-family:Helvetica;font-size:12px;opacity:1.0;stroke:rgb(16.1%,15.3%,14.1%);stroke-opacity:1.0;stroke-width:1.0\" id=\"t3640faa9e7834a06b665508e1331f679\"><g class=\"toyplot-coordinates-Cartesian\" id=\"t5c0d90de760d4e77b184b6f57d2057b4\"><clipPath id=\"t7913c25b22c8464da48a06080244b273\"><rect x=\"35.0\" y=\"35.0\" width=\"380.0\" height=\"205.0\"></rect></clipPath><g clip-path=\"url(#t7913c25b22c8464da48a06080244b273)\"><g class=\"toytree-mark-Toytree\" id=\"ta6e70ce3812741d5bd88d8f6e83b2a19\"><g class=\"toytree-Edges\" style=\"stroke:rgb(16.1%,15.3%,14.1%);stroke-opacity:1.0;stroke-linecap:round;stroke-width:2.0;fill:none\"><path d=\"M 159.8 197.9 L 159.8 218.1 L 165.7 218.1\" id=\"5,0\" style=\"\"></path><path d=\"M 159.8 197.9 L 159.8 177.8 L 165.7 177.8\" id=\"5,1\" style=\"\"></path><path d=\"M 83.1 167.7 L 83.1 137.5 L 189.4 137.5\" id=\"6,2\" style=\"\"></path><path d=\"M 71.3 132.5 L 71.3 97.2 L 218.9 97.2\" id=\"7,3\" style=\"\"></path><path d=\"M 53.5 94.7 L 53.5 56.9 L 124.4 56.9\" id=\"8,4\" style=\"\"></path><path d=\"M 83.1 167.7 L 83.1 197.9 L 159.8 197.9\" id=\"6,5\" style=\"\"></path><path d=\"M 71.3 132.5 L 71.3 167.7 L 83.1 167.7\" id=\"7,6\" style=\"\"></path><path d=\"M 53.5 94.7 L 53.5 132.5 L 71.3 132.5\" id=\"8,7\" style=\"\"></path></g><g class=\"toytree-Nodes\" style=\"fill:rgb(40.0%,76.1%,64.7%);fill-opacity:1.0;stroke:rgb(14.9%,14.9%,14.9%);stroke-opacity:1.0;stroke-width:1.5\"><g id=\"Node-5\" transform=\"translate(159.838,197.944)\"><circle r=\"7.5\"></circle></g><g id=\"Node-6\" transform=\"translate(83.069,167.722)\"><circle r=\"7.5\"></circle></g><g id=\"Node-7\" transform=\"translate(71.259,132.463)\"><circle r=\"7.5\"></circle></g><g id=\"Node-8\" transform=\"translate(53.543,94.685)\"><circle r=\"7.5\"></circle></g></g><g class=\"toytree-NodeLabels\" style=\"font-family:Helvetica;font-size:9.0px;font-weight:300;vertical-align:baseline;white-space:pre;stroke:none\"><g class=\"toytree-NodeLabel\" transform=\"translate(160,198)\"><text x=\"-2.5020000000000002\" y=\"2.2995\" style=\"fill:rgb(16.1%,15.3%,14.1%);fill-opacity:1.0\">5</text></g><g class=\"toytree-NodeLabel\" transform=\"translate(83.1,168)\"><text x=\"-2.5020000000000002\" y=\"2.2995\" style=\"fill:rgb(16.1%,15.3%,14.1%);fill-opacity:1.0\">6</text></g><g class=\"toytree-NodeLabel\" transform=\"translate(71.3,132)\"><text x=\"-2.5020000000000002\" y=\"2.2995\" style=\"fill:rgb(16.1%,15.3%,14.1%);fill-opacity:1.0\">7</text></g><g class=\"toytree-NodeLabel\" transform=\"translate(53.5,94.7)\"><text x=\"-2.5020000000000002\" y=\"2.2995\" style=\"fill:rgb(16.1%,15.3%,14.1%);fill-opacity:1.0\">8</text></g></g><g class=\"toytree-TipLabels\" style=\"fill:rgb(16.1%,15.3%,14.1%);fill-opacity:1.0;font-family:Helvetica;font-size:11.0px;font-weight:300;vertical-align:baseline;white-space:pre;stroke:none\"><g class=\"toytree-TipLabel\" transform=\"translate(166,218)\"><text x=\"15.0\" y=\"2.8104999999999993\" style=\"fill:rgb(16.1%,15.3%,14.1%);fill-opacity:1.0\">Sinningia carangolensis  (19_K039112_04)</text></g><g class=\"toytree-TipLabel\" transform=\"translate(166,178)\"><text x=\"15.0\" y=\"2.8104999999999993\" style=\"fill:rgb(16.1%,15.3%,14.1%);fill-opacity:1.0\">Sinningia carangolensis  (19_K039112_05)</text></g><g class=\"toytree-TipLabel\" transform=\"translate(189,138)\"><text x=\"15.0\" y=\"2.8104999999999993\" style=\"fill:rgb(16.1%,15.3%,14.1%);fill-opacity:1.0\">Sinningia sceptrum (63_K039178_01)</text></g><g class=\"toytree-TipLabel\" transform=\"translate(219,97.2)\"><text x=\"15.0\" y=\"2.8104999999999993\" style=\"fill:rgb(16.1%,15.3%,14.1%);fill-opacity:1.0\">Sinningia pusilla (58_HC5803-7_09)</text></g><g class=\"toytree-TipLabel\" transform=\"translate(124,56.9)\"><text x=\"15.0\" y=\"2.8104999999999993\" style=\"fill:rgb(16.1%,15.3%,14.1%);fill-opacity:1.0\">Sinningia concinna  (22_K039118_03)</text></g></g></g></g></g></svg><div class=\"toyplot-behavior\"><script>(function()\n",
       "{\n",
       "var modules={};\n",
       "})();</script></div></div>"
      ]
     },
     "metadata": {},
     "output_type": "display_data"
    }
   ],
   "source": [
    "minimal_tree.draw(node_labels=True, node_sizes=15, tip_labels=[f\"{sample_to_species[raw_tip]} ({raw_tip})\" for raw_tip in minimal_tree.get_tip_labels()])"
   ]
  },
  {
   "cell_type": "code",
   "execution_count": 38,
   "id": "70d0dc08-8015-4a92-97b0-d87bdac37e26",
   "metadata": {
    "tags": []
   },
   "outputs": [
    {
     "data": {
      "application/vnd.jupyter.widget-view+json": {
       "model_id": "3a4dbe43d8dc42da89c5d0df61ff7082",
       "version_major": 2,
       "version_minor": 0
      },
      "text/plain": [
       "Plot(antialias=3, axes=['x', 'y', 'z'], axes_helper=1.0, axes_helper_colors=[16711680, 65280, 255], background…"
      ]
     },
     "execution_count": 38,
     "metadata": {},
     "output_type": "execute_result"
    }
   ],
   "source": [
    "# visualize_points(ps.tree[8].vertices.coords, point_size=20)\n",
    "visualize_points(*[ps.tree[node_id].vertices.coords for node_id in range(ps.tree.nnodes)])"
   ]
  },
  {
   "cell_type": "code",
   "execution_count": 39,
   "id": "0251a81c-3a2a-41d2-9a05-9edf2f0d806a",
   "metadata": {
    "tags": []
   },
   "outputs": [],
   "source": [
    "# # visualize the order of vertices to locate and highlight the first 4 vertices with red lines\n",
    "# this_coords = ps.tree[8].vertices.coords\n",
    "# preorder_traverse = ps.vv_translator.get_lines_for_k3d_plot()\n",
    "# from phyloshape.utils import rgb_to_hex\n",
    "# from colorsys import hsv_to_rgb\n",
    "# HSV_vals = [(0.5, x*1.0/len(this_coords), x*1.0/len(this_coords)) for x in range(len(this_coords))]\n",
    "# RGB_vals = np.array([hsv_to_rgb(*_hsv) for _hsv in HSV_vals])\n",
    "# HEX_vals = rgb_to_hex(RGB_vals * 256)\n",
    "# plot = k3d.plot(grid_visible=False)\n",
    "# plot += k3d.points(this_coords, colors=HEX_vals[preorder_traverse[:len(HEX_vals)]], point_size=10)\n",
    "# plot += k3d.line(this_coords[preorder_traverse][:4], shader=\"simple\", width=.3, color=0xff0000)\n",
    "# # for go_v, v_tri in enumerate(this_coords[preorder_traverse[:int(len(preorder_traverse)/2)]]):\n",
    "# # plot += k3d.line(v_tri, shader=\"simple\", width=200, color=0xff0000)# int(HEX_vals[go_v]))\n",
    "# plot"
   ]
  },
  {
   "cell_type": "code",
   "execution_count": 40,
   "id": "c7df9fd8-016e-482f-84e5-c16f31563cfa",
   "metadata": {
    "tags": []
   },
   "outputs": [
    {
     "ename": "NameError",
     "evalue": "name 'ps_lv_100' is not defined",
     "output_type": "error",
     "traceback": [
      "\u001b[0;31m---------------------------------------------------------------------------\u001b[0m",
      "\u001b[0;31mNameError\u001b[0m                                 Traceback (most recent call last)",
      "Cell \u001b[0;32mIn[40], line 1\u001b[0m\n\u001b[0;32m----> 1\u001b[0m visualize_points(\u001b[43mps_lv_100\u001b[49m\u001b[38;5;241m.\u001b[39mtree[\u001b[38;5;241m8\u001b[39m]\u001b[38;5;241m.\u001b[39mvertices\u001b[38;5;241m.\u001b[39mcoords, point_size\u001b[38;5;241m=\u001b[39m\u001b[38;5;241m20\u001b[39m)\n",
      "\u001b[0;31mNameError\u001b[0m: name 'ps_lv_100' is not defined"
     ]
    }
   ],
   "source": [
    "visualize_points(ps_lv_100.tree[8].vertices.coords, point_size=20)"
   ]
  },
  {
   "cell_type": "code",
   "execution_count": 37,
   "id": "aec84d6f-ef9d-4e68-ae87-f4fbfe04ec5e",
   "metadata": {
    "tags": []
   },
   "outputs": [],
   "source": [
    "# # define the PCA tranformer\n",
    "# vector_trans = VectorTrans()\n",
    "# # define the tree\n",
    "# minimal_tree = newick.parse_newick_string(minimal_tree_str)\n",
    "# # define the phyloshape object\n",
    "# ps = PhyloShape(tree_obj=minimal_tree, shape_alignments=alignment, model=Brownian(), vect_transform=vector_trans.transform, vect_inverse_transform=vector_trans.inverse_transform)\n",
    "# # ps = PhyloShape(tree_obj=minimal_tree, shape_alignments=alignment, model=Brownian())\n",
    "# ps.reconstruct_ancestral_shapes_using_ml(mode=\"network-local\", num_vs=10)  # old, linear-variation, linear-random, network-local"
   ]
  },
  {
   "cell_type": "code",
   "execution_count": 38,
   "id": "0be2665e-4253-4365-9483-bfac2bf77e6d",
   "metadata": {
    "tags": []
   },
   "outputs": [],
   "source": [
    "# visualize_points(ps.tree[8].vertices.coords, point_size=20)\n",
    "# # visualize_points(*[ps.tree[node_id].vertices.coords for node_id in range(ps.tree.nnodes)])"
   ]
  },
  {
   "cell_type": "code",
   "execution_count": 39,
   "id": "b5a260c8-64c4-45a2-bf47-686ba85f1b95",
   "metadata": {
    "tags": []
   },
   "outputs": [],
   "source": [
    "# # define the PCA tranformer\n",
    "# vector_trans = VectorTrans()\n",
    "# # define the tree\n",
    "# minimal_tree = newick.parse_newick_string(minimal_tree_str)\n",
    "# # define the phyloshape object\n",
    "# ps = PhyloShape(tree_obj=minimal_tree, shape_alignments=alignment, model=Brownian(), vect_transform=vector_trans.transform, vect_inverse_transform=vector_trans.inverse_transform)\n",
    "# # ps = PhyloShape(tree_obj=minimal_tree, shape_alignments=alignment, model=Brownian())\n",
    "# ps.reconstruct_ancestral_shapes_using_ml(mode=\"network-local\", num_vs=40)  # old, linear-variation, linear-random, network-local"
   ]
  },
  {
   "cell_type": "code",
   "execution_count": 40,
   "id": "af024b27-e6b6-4606-943a-c437914f4638",
   "metadata": {
    "tags": []
   },
   "outputs": [],
   "source": [
    "# visualize_points(ps.tree[8].vertices.coords, point_size=20)\n",
    "# # visualize_points(*[ps.tree[node_id].vertices.coords for node_id in range(ps.tree.nnodes)])"
   ]
  },
  {
   "cell_type": "code",
   "execution_count": null,
   "id": "6e107781-1eb1-490c-a03d-b7960b0a253c",
   "metadata": {},
   "outputs": [],
   "source": []
  },
  {
   "cell_type": "code",
   "execution_count": null,
   "id": "ccf80f61-e797-4a54-aefb-082cef1e8f6c",
   "metadata": {},
   "outputs": [],
   "source": []
  },
  {
   "cell_type": "code",
   "execution_count": null,
   "id": "661cde22-2407-4cee-9ee3-7e86b6aa2864",
   "metadata": {},
   "outputs": [],
   "source": []
  },
  {
   "cell_type": "code",
   "execution_count": null,
   "id": "0eee296c-60ee-4a0d-a53d-0230dadb32ea",
   "metadata": {},
   "outputs": [],
   "source": []
  },
  {
   "cell_type": "code",
   "execution_count": null,
   "id": "62ccf875-052c-4fa4-9156-5397cf7e751d",
   "metadata": {},
   "outputs": [],
   "source": []
  },
  {
   "cell_type": "code",
   "execution_count": null,
   "id": "6820c29f-944e-4b1d-8082-f90b03c13e68",
   "metadata": {},
   "outputs": [],
   "source": []
  },
  {
   "cell_type": "code",
   "execution_count": null,
   "id": "b993edb9-da2d-41c7-b749-a2c41fde16e4",
   "metadata": {},
   "outputs": [],
   "source": []
  },
  {
   "cell_type": "code",
   "execution_count": null,
   "id": "50dffa0a-68a6-4e61-ae4a-fa769a66ce79",
   "metadata": {},
   "outputs": [],
   "source": []
  },
  {
   "cell_type": "code",
   "execution_count": null,
   "id": "7cdac60f-26d0-437e-bcdb-c7062fd80a70",
   "metadata": {},
   "outputs": [],
   "source": []
  },
  {
   "cell_type": "code",
   "execution_count": null,
   "id": "587cbd41-d7ca-4f61-9c41-851628c56f0c",
   "metadata": {},
   "outputs": [],
   "source": []
  },
  {
   "cell_type": "code",
   "execution_count": null,
   "id": "13624266-7bdf-4324-aecc-cd74ac029a46",
   "metadata": {},
   "outputs": [],
   "source": []
  },
  {
   "cell_type": "code",
   "execution_count": null,
   "id": "e5e12183-804b-4969-9f9a-d82fdc53eb51",
   "metadata": {},
   "outputs": [],
   "source": []
  },
  {
   "cell_type": "code",
   "execution_count": null,
   "id": "1e0f34ec-4822-4d07-bf58-a94c3dc2b3c8",
   "metadata": {},
   "outputs": [],
   "source": []
  },
  {
   "cell_type": "code",
   "execution_count": null,
   "id": "dfc8adac-337f-47b6-9459-6d5825fb30d2",
   "metadata": {},
   "outputs": [],
   "source": []
  },
  {
   "cell_type": "code",
   "execution_count": 56,
   "id": "a03ab081-f25b-46e2-880d-64d4b84d8673",
   "metadata": {
    "tags": []
   },
   "outputs": [
    {
     "name": "stderr",
     "output_type": "stream",
     "text": [
      "ℹ️ 2023-05-04-00:29:25.69 | \u001b[35m     vectors.py | \u001b[0m\u001b[36mcheck_duplicates          | \u001b[0m\u001b[1m411 ouf of 411 sample-wide unique points\u001b[0m\n",
      "ℹ️ 2023-05-04-00:29:25.87 | \u001b[35m       phylo.py | \u001b[0m\u001b[36mbuild_vv_translator       | \u001b[0m\u001b[1mVertex:Vector (441:440) translator built.\u001b[0m\n",
      "ℹ️ 2023-05-04-00:29:30.83 | \u001b[35m       phylo.py | \u001b[0m\u001b[36mbuild_tip_vectors         | \u001b[0m\u001b[1mDimension (12765, 3) -> (5,)\u001b[0m\n",
      "ℹ️ 2023-05-04-00:29:30.83 | \u001b[35m       phylo.py | \u001b[0m\u001b[36mbuild_tip_vectors         | \u001b[0m\u001b[1mVectors for 5 tips built.\u001b[0m\n",
      "ℹ️ 2023-05-04-00:29:30.83 | \u001b[35m       phylo.py | \u001b[0m\u001b[36msym_ancestral_vectors     | \u001b[0m\u001b[1mVectors for 4 ancestral nodes symbolized.\u001b[0m\n",
      "ℹ️ 2023-05-04-00:29:30.83 | \u001b[35m       phylo.py | \u001b[0m\u001b[36mformularize_log_like      | \u001b[0m\u001b[1mNum of variables: 21\u001b[0m\n",
      "ℹ️ 2023-05-04-00:29:30.83 | \u001b[35m       phylo.py | \u001b[0m\u001b[36mformularize_log_like      | \u001b[0m\u001b[1mLog-likelihood formula constructed.\u001b[0m\n",
      "ℹ️ 2023-05-04-00:29:30.85 | \u001b[35m       phylo.py | \u001b[0m\u001b[36mminimize_negloglike       | \u001b[0m\u001b[1mSearching for the best solution ..\u001b[0m\n",
      "ℹ️ 2023-05-04-00:29:30.95 | \u001b[35m       phylo.py | \u001b[0m\u001b[36mminimize_negloglike       | \u001b[0m\u001b[1mLoglikelihood: 61.17569979141426\u001b[0m\n",
      "ℹ️ 2023-05-04-00:29:30.96 | \u001b[35m       phylo.py | \u001b[0m\u001b[36m__summarize_ml_result     | \u001b[0m\u001b[1msigma^2=1549.864703\u001b[0m\n",
      "🐞 2023-05-04-00:29:58.20 | \u001b[35m     vectors.py | \u001b[0m\u001b[36m__iterative_updating_vertices | \u001b[0m\u001b[34m\u001b[1mtotal num of iterations: 30\u001b[0m\n",
      "🐞 2023-05-04-00:30:24.51 | \u001b[35m     vectors.py | \u001b[0m\u001b[36m__iterative_updating_vertices | \u001b[0m\u001b[34m\u001b[1mtotal num of iterations: 30\u001b[0m\n",
      "🐞 2023-05-04-00:30:50.74 | \u001b[35m     vectors.py | \u001b[0m\u001b[36m__iterative_updating_vertices | \u001b[0m\u001b[34m\u001b[1mtotal num of iterations: 30\u001b[0m\n",
      "🐞 2023-05-04-00:31:16.32 | \u001b[35m     vectors.py | \u001b[0m\u001b[36m__iterative_updating_vertices | \u001b[0m\u001b[34m\u001b[1mtotal num of iterations: 30\u001b[0m\n"
     ]
    }
   ],
   "source": [
    "# define the PCA tranformer\n",
    "num_vt_iter = 30\n",
    "vector_trans = VectorTrans()\n",
    "# define the tree\n",
    "minimal_tree = newick.parse_newick_string(minimal_tree_str)\n",
    "# define the phyloshape object\n",
    "ps = PhyloShape(tree_obj=minimal_tree, shape_alignments=alignment, model=Brownian(), vect_transform=vector_trans.transform, vect_inverse_transform=vector_trans.inverse_transform)\n",
    "# ps = PhyloShape(tree_obj=minimal_tree, shape_alignments=alignment, model=Brownian())\n",
    "ps.reconstruct_ancestral_shapes_using_ml(mode=\"linear-random\", num_vs=30, num_vt_iter=num_vt_iter)  # old, linear-variation, linear-random, network-local"
   ]
  },
  {
   "cell_type": "code",
   "execution_count": 57,
   "id": "6143065f-2a4a-4dab-a2e8-5a5ed6a5c398",
   "metadata": {
    "tags": []
   },
   "outputs": [
    {
     "data": {
      "text/plain": [
       "[[296.4715887534307, 146.87178649582364],\n",
       " [30.158866358057963, 32.93018682576381],\n",
       " [22.53345697040081, 13.835607806922015],\n",
       " [18.94978388017831, 11.62198300187615],\n",
       " [17.211418351332295, 10.046742601879036],\n",
       " [15.524847812900632, 8.999592898327672],\n",
       " [16.95136893409433, 8.647499784063731],\n",
       " [17.96033765155797, 8.607769552691197],\n",
       " [20.005804002055633, 10.60097345238358],\n",
       " [22.201991722231096, 11.25641355812676],\n",
       " [22.5552948007904, 11.78248225038686],\n",
       " [22.983971722008366, 12.994112569355687],\n",
       " [26.25859975203253, 15.181743992976642],\n",
       " [25.95050232374893, 15.469570543697827],\n",
       " [22.46060316180184, 13.818646487787055],\n",
       " [20.619263768233946, 12.407172553842873],\n",
       " [20.31104562560389, 12.233320682292785],\n",
       " [19.979246148644098, 12.845776535828124],\n",
       " [19.026225371788648, 11.733648368814205],\n",
       " [20.399721017729263, 12.41011848161625],\n",
       " [23.217159454462195, 12.241447504998563],\n",
       " [24.511855345480424, 13.684720599754183],\n",
       " [26.208436483258176, 16.279315428985367],\n",
       " [20.95335942867157, 13.791361135391714],\n",
       " [18.87463415298351, 12.063818400076881],\n",
       " [17.394746339330414, 11.044432423068228],\n",
       " [16.489196433295042, 9.944791981088008],\n",
       " [17.09070541926392, 9.567363153050808],\n",
       " [16.989446970682362, 9.572867030320287]]"
      ]
     },
     "execution_count": 57,
     "metadata": {},
     "output_type": "execute_result"
    }
   ],
   "source": [
    "diffs = []\n",
    "for go_iter in range(1, num_vt_iter):\n",
    "    diff = np.linalg.norm(ps.vv_translator._debug_vertices[go_iter]-ps.vv_translator._debug_vertices[go_iter-1], axis=1)\n",
    "    diffs.append([np.mean(diff), np.std(diff)])\n",
    "diffs"
   ]
  },
  {
   "cell_type": "code",
   "execution_count": 58,
   "id": "a80029d5-11ee-415b-90a2-b2451244b6af",
   "metadata": {
    "tags": []
   },
   "outputs": [
    {
     "name": "stderr",
     "output_type": "stream",
     "text": [
      "/home/jianjun/mambaforge/envs/phyloshape/lib/python3.11/site-packages/traittypes/traittypes.py:97: UserWarning: Given trait value dtype \"float64\" does not match required type \"float32\". A coerced copy has been created.\n",
      "  warnings.warn(\n"
     ]
    },
    {
     "data": {
      "application/vnd.jupyter.widget-view+json": {
       "model_id": "fad84d39f253429aaf79265300063441",
       "version_major": 2,
       "version_minor": 0
      },
      "text/plain": [
       "Plot(antialias=3, axes=['x', 'y', 'z'], axes_helper=1.0, axes_helper_colors=[16711680, 65280, 255], background…"
      ]
     },
     "execution_count": 58,
     "metadata": {},
     "output_type": "execute_result"
    }
   ],
   "source": [
    "visualize_points(ps.tree[8].vertices.coords, point_size=20)\n",
    "# visualize_points(*[ps.tree[node_id].vertices.coords for node_id in range(ps.tree.nnodes)])"
   ]
  },
  {
   "cell_type": "code",
   "execution_count": 42,
   "id": "7584489d-b0bd-4882-87f2-125c3e1debf0",
   "metadata": {
    "tags": []
   },
   "outputs": [
    {
     "name": "stderr",
     "output_type": "stream",
     "text": [
      "ℹ️ 2023-05-04-13:47:55.76 | \u001b[35m     vectors.py | \u001b[0m\u001b[36mcheck_duplicates          | \u001b[0m\u001b[1m411 ouf of 411 sample-wide unique points\u001b[0m\n",
      "ℹ️ 2023-05-04-13:47:56.56 | \u001b[35m       phylo.py | \u001b[0m\u001b[36mbuild_vv_translator       | \u001b[0m\u001b[1mVertex:Vector (511:510) translator built.\u001b[0m\n",
      "ℹ️ 2023-05-04-13:48:15.46 | \u001b[35m       phylo.py | \u001b[0m\u001b[36mbuild_tip_vectors         | \u001b[0m\u001b[1mDimension (46050, 3) -> (5,)\u001b[0m\n",
      "ℹ️ 2023-05-04-13:48:15.46 | \u001b[35m       phylo.py | \u001b[0m\u001b[36mbuild_tip_vectors         | \u001b[0m\u001b[1mVectors for 5 tips built.\u001b[0m\n",
      "ℹ️ 2023-05-04-13:48:15.46 | \u001b[35m       phylo.py | \u001b[0m\u001b[36msym_ancestral_vectors     | \u001b[0m\u001b[1mVectors for 4 ancestral nodes symbolized.\u001b[0m\n",
      "ℹ️ 2023-05-04-13:48:15.47 | \u001b[35m       phylo.py | \u001b[0m\u001b[36mformularize_log_like      | \u001b[0m\u001b[1mNum of variables: 21\u001b[0m\n",
      "ℹ️ 2023-05-04-13:48:15.47 | \u001b[35m       phylo.py | \u001b[0m\u001b[36mformularize_log_like      | \u001b[0m\u001b[1mLog-likelihood formula constructed.\u001b[0m\n",
      "ℹ️ 2023-05-04-13:48:15.49 | \u001b[35m       phylo.py | \u001b[0m\u001b[36mminimize_negloglike       | \u001b[0m\u001b[1mSearching for the best solution ..\u001b[0m\n",
      "ℹ️ 2023-05-04-13:48:15.58 | \u001b[35m       phylo.py | \u001b[0m\u001b[36mminimize_negloglike       | \u001b[0m\u001b[1mLoglikelihood: 86.65566851079316\u001b[0m\n",
      "ℹ️ 2023-05-04-13:48:15.58 | \u001b[35m       phylo.py | \u001b[0m\u001b[36m__summarize_ml_result     | \u001b[0m\u001b[1msigma^2=5601.039989\u001b[0m\n",
      "🐞 2023-05-04-13:49:46.19 | \u001b[35m     vectors.py | \u001b[0m\u001b[36m__updating_vertices       | \u001b[0m\u001b[34m\u001b[1mtotal num of iterations: 30\u001b[0m\n",
      "🐞 2023-05-04-13:51:17.98 | \u001b[35m     vectors.py | \u001b[0m\u001b[36m__updating_vertices       | \u001b[0m\u001b[34m\u001b[1mtotal num of iterations: 30\u001b[0m\n",
      "🐞 2023-05-04-13:52:48.53 | \u001b[35m     vectors.py | \u001b[0m\u001b[36m__updating_vertices       | \u001b[0m\u001b[34m\u001b[1mtotal num of iterations: 30\u001b[0m\n",
      "🐞 2023-05-04-13:54:18.65 | \u001b[35m     vectors.py | \u001b[0m\u001b[36m__updating_vertices       | \u001b[0m\u001b[34m\u001b[1mtotal num of iterations: 30\u001b[0m\n"
     ]
    }
   ],
   "source": [
    "# define the PCA tranformer\n",
    "num_vt_iter = 30\n",
    "vector_trans = VectorTrans()\n",
    "# define the tree\n",
    "minimal_tree = newick.parse_newick_string(minimal_tree_str)\n",
    "# define the phyloshape object\n",
    "ps_lr_100 = PhyloShape(tree_obj=minimal_tree, shape_alignments=alignment, model=Brownian(), vect_transform=vector_trans.transform, vect_inverse_transform=vector_trans.inverse_transform)\n",
    "# ps = PhyloShape(tree_obj=minimal_tree, shape_alignments=alignment, model=Brownian())\n",
    "ps_lr_100.reconstruct_ancestral_shapes_using_ml(mode=\"linear-random\", num_vs=100, num_vt_iter=num_vt_iter)  # old, linear-variation, linear-random, network-local"
   ]
  },
  {
   "cell_type": "code",
   "execution_count": 57,
   "id": "5afafdec-e978-4708-a404-8d0de6a3f200",
   "metadata": {
    "tags": []
   },
   "outputs": [
    {
     "data": {
      "text/plain": [
       "[[671.659005421147, 275.5250063321256, 146.08720457940828],\n",
       " [380.7616190898165, 32.60258502028642, 51.438354623526415],\n",
       " [31.147314658855795, 14.338643216154118, 7.21004599643521],\n",
       " [31.490856405311174, 14.190523541385902, 7.22016032443849],\n",
       " [31.36492156264721, 14.221286949328576, 7.1444519386029555],\n",
       " [31.208214937172, 14.038536903441525, 7.266054104065067],\n",
       " [31.041529992257082, 13.677503731849562, 7.219166849642793],\n",
       " [29.778472162898467, 13.497687758524902, 6.873174557025921],\n",
       " [29.848147131279443, 13.449346144081247, 6.8127162684067155],\n",
       " [29.305949227768497, 13.238829882567222, 6.679543008876783],\n",
       " [29.339700426996295, 13.288594066569788, 6.639939175913306],\n",
       " [30.143657323163577, 13.232739280362676, 6.557921438329172],\n",
       " [29.167836333625687, 13.306371309901742, 6.442020600841703],\n",
       " [28.86210709114569, 13.305017277375075, 6.470899241523502],\n",
       " [28.791395172516186, 13.251970759119146, 6.4793539882241395],\n",
       " [30.16281692775791, 13.61474577549206, 6.682182782865429],\n",
       " [30.19684336397063, 13.81229587207715, 6.642425475164638],\n",
       " [32.02793557322947, 14.25889090097923, 6.877797339173447],\n",
       " [32.397940403481726, 14.86604843720335, 7.2434068290036695],\n",
       " [32.62014709819052, 14.806836355577202, 7.236047197575574],\n",
       " [33.45863809060465, 14.902236452218117, 7.294765866663191],\n",
       " [33.1823378753062, 15.111028449884193, 7.276565133405761],\n",
       " [31.775528609944715, 14.649001338332445, 6.972535671235636],\n",
       " [33.54475315565152, 15.083149014067953, 7.191668759953012],\n",
       " [33.08833926099893, 15.492027103232429, 7.321846079582886],\n",
       " [31.897024984300057, 15.126798491316075, 7.17375196263829],\n",
       " [32.828639233201386, 15.11347049061922, 7.300177699939657],\n",
       " [31.41999813397786, 14.496094326998387, 6.987364652744017],\n",
       " [31.009707576860457, 14.607861501158663, 6.925293900626587]]"
      ]
     },
     "execution_count": 57,
     "metadata": {},
     "output_type": "execute_result"
    }
   ],
   "source": [
    "diffs = []\n",
    "for go_iter in range(1, num_vt_iter):\n",
    "    diff = np.linalg.norm(ps_lr_100.vv_translator._debug_vertices[go_iter] - ps_lr_100.vv_translator._debug_vertices[go_iter-1], axis=1)\n",
    "    diffs.append([np.max(diff), np.mean(diff), np.std(diff)])\n",
    "diffs"
   ]
  },
  {
   "cell_type": "code",
   "execution_count": 58,
   "id": "804133f2-2948-478d-a4fd-2dd743b49609",
   "metadata": {
    "tags": []
   },
   "outputs": [
    {
     "data": {
      "text/plain": [
       "[[721.6393912764127, 268.31669411729104, 142.88302239182232],\n",
       " [381.66518984045695, 23.609664978664462, 54.384047529222926],\n",
       " [1.8709998089237896, 0.5374772195073566, 0.30481144835201346],\n",
       " [2.67231938535895, 0.5564194225677377, 0.3565781779537669],\n",
       " [1.8476317967331317, 0.5486954880284286, 0.3278923901200836],\n",
       " [2.576259220926404, 0.5867953608899107, 0.34279201008302174],\n",
       " [2.036117241554573, 0.5773746135712874, 0.3173294837782477],\n",
       " [2.4249957710867283, 0.5542151064868988, 0.32745539503800153],\n",
       " [1.9335698785226942, 0.48563719084139517, 0.3165421111504169],\n",
       " [2.5848296522826435, 0.5433306701847141, 0.30957134428846866],\n",
       " [1.8701491615514754, 0.5259759237774804, 0.32664116066098153],\n",
       " [2.185215015087066, 0.49170956151450906, 0.31605002460542486],\n",
       " [2.423289749520147, 0.4468245824130567, 0.3145276817457417],\n",
       " [1.9820334443045444, 0.5139033770680709, 0.30754952261109353],\n",
       " [2.3125729173551357, 0.532136245377543, 0.3389595721543202],\n",
       " [2.508862322700803, 0.5226356804056026, 0.3560450680088398],\n",
       " [2.5356997929136513, 0.6575742582238854, 0.38456708234722253],\n",
       " [2.9920442507979295, 0.5628644886510216, 0.39762695674262677],\n",
       " [2.305269831273501, 0.6472088797625263, 0.36909957711708985],\n",
       " [2.1753871451661757, 0.5621129778431584, 0.33047015932267765],\n",
       " [3.963089846039321, 0.6744968259835249, 0.4148071513070886],\n",
       " [2.3062834585015572, 0.586668846418447, 0.3510573936030288],\n",
       " [2.5397156557985587, 0.5874505036787434, 0.3504212656568296],\n",
       " [2.4495450414274473, 0.6743072377085779, 0.38683915047747974],\n",
       " [2.5324208963690777, 0.5528927151519784, 0.355343132403777],\n",
       " [2.6037222550501626, 0.5702427760023717, 0.3583752262776719],\n",
       " [2.920100382750387, 0.5981721207001706, 0.36360338892984156],\n",
       " [2.242889154954739, 0.6072751858992118, 0.3442317554762267],\n",
       " [2.508148574757119, 0.5726884597205065, 0.32740685049687984]]"
      ]
     },
     "execution_count": 58,
     "metadata": {},
     "output_type": "execute_result"
    }
   ],
   "source": [
    "diffs = []\n",
    "for go_iter in range(1, num_vt_iter):\n",
    "    ref_c, new_v = unscaled_procrustes(ps_lr_100.vv_translator._debug_vertices[go_iter], ps_lr_100.vv_translator._debug_vertices[go_iter-1])\n",
    "    diff = np.linalg.norm(ref_c-new_v, axis=1)\n",
    "    diffs.append([np.max(diff), np.mean(diff), np.std(diff)])\n",
    "diffs"
   ]
  },
  {
   "cell_type": "code",
   "execution_count": 56,
   "id": "81786893-bbfb-43dc-b566-7dd206564bfb",
   "metadata": {
    "tags": []
   },
   "outputs": [],
   "source": [
    "from scipy.spatial import procrustes\n",
    "from scipy.linalg import orthogonal_procrustes\n",
    "def unscaled_procrustes(reference, data):\n",
    "    \"\"\"Fit `data` to `reference` using procrustes analysis without scaling.\n",
    "    Uses translation (mean-centering), reflection, and orthogonal rotation.\n",
    "\n",
    "    Parameters:\n",
    "        reference (array-like of shape (n_points, n_dim)): reference shape to\n",
    "            fit `data` to\n",
    "        data (array-like of shape (n_points, n_dim)): shape to align to\n",
    "            `reference`\n",
    "\n",
    "    Returns:\n",
    "        reference_centered (np.ndarray of shape (n_points, n_dim)): 0-centered\n",
    "            `reference` shape\n",
    "        data_aligned (np.ndarray of shape (n_points, n_dim)): `data` aligned to\n",
    "            the reference shape\n",
    "    \"\"\"\n",
    "    # Convert inputs to np.ndarray types\n",
    "    reference = np.array(reference, dtype=np.double)\n",
    "    data = np.array(data, dtype=np.double)\n",
    "\n",
    "    # Translate data to the origin\n",
    "    reference_centered = reference - reference.mean(axis=0)\n",
    "    data_centered = data - data.mean(axis=0)\n",
    "\n",
    "    # Rotate / reflect data to match reference\n",
    "    # transform mtx2 to minimize disparity\n",
    "    R, _ = orthogonal_procrustes(data_centered, reference_centered)\n",
    "    data_aligned = data_centered @ R\n",
    "\n",
    "    return reference_centered, data_aligned"
   ]
  },
  {
   "cell_type": "code",
   "execution_count": null,
   "id": "88fff374-1d7d-4fca-b498-faa64d39df56",
   "metadata": {},
   "outputs": [],
   "source": []
  },
  {
   "cell_type": "code",
   "execution_count": null,
   "id": "64204169-8785-4970-b862-1853b449674e",
   "metadata": {
    "tags": []
   },
   "outputs": [],
   "source": [
    "visualize_points(ps_lr_100.tree[8].vertices.coords, point_size=20)\n",
    "# visualize_points(*[ps.tree[node_id].vertices.coords for node_id in range(ps.tree.nnodes)])"
   ]
  },
  {
   "cell_type": "code",
   "execution_count": null,
   "id": "3c9b8534-3f54-49be-a35c-7017157461a4",
   "metadata": {},
   "outputs": [],
   "source": []
  },
  {
   "cell_type": "code",
   "execution_count": null,
   "id": "f629fd6e-4938-4f40-aeba-baa097e34f86",
   "metadata": {},
   "outputs": [],
   "source": []
  },
  {
   "cell_type": "code",
   "execution_count": null,
   "id": "7421ed8b-ea20-42fe-b3a1-438707e8fa85",
   "metadata": {},
   "outputs": [],
   "source": []
  },
  {
   "cell_type": "code",
   "execution_count": null,
   "id": "b4859cbd-253e-498e-ac28-7471c8fe128d",
   "metadata": {},
   "outputs": [],
   "source": []
  },
  {
   "cell_type": "code",
   "execution_count": null,
   "id": "ef8589e6-1713-438c-856e-a2acdebae1ce",
   "metadata": {},
   "outputs": [],
   "source": []
  },
  {
   "cell_type": "code",
   "execution_count": null,
   "id": "7119706f-5123-4a97-acf9-6568dddc951c",
   "metadata": {},
   "outputs": [],
   "source": []
  },
  {
   "cell_type": "code",
   "execution_count": null,
   "id": "9bf96b47-7c90-41d8-beb6-f655f6fc151d",
   "metadata": {},
   "outputs": [],
   "source": []
  },
  {
   "cell_type": "code",
   "execution_count": null,
   "id": "ac64bbd7-d930-47e4-a275-a00d075d9692",
   "metadata": {},
   "outputs": [],
   "source": []
  },
  {
   "cell_type": "code",
   "execution_count": null,
   "id": "bcce3973-a401-4424-ba0f-966ef37760c2",
   "metadata": {},
   "outputs": [],
   "source": []
  },
  {
   "cell_type": "code",
   "execution_count": 54,
   "id": "fdf94607-7098-4c70-912b-58ccd569768e",
   "metadata": {
    "tags": []
   },
   "outputs": [
    {
     "data": {
      "text/plain": [
       "(['63_K039178_01',\n",
       "  '58_HC5803-7_09',\n",
       "  '19_K039112_05',\n",
       "  '19_K039112_02',\n",
       "  '22_K039118_03',\n",
       "  '69_K039199_02',\n",
       "  '19_HC1912-2_03',\n",
       "  '34_K039135_01',\n",
       "  '63_K039179_06',\n",
       "  '72_K039216_01'],\n",
       " ['Sinningia sceptrum',\n",
       "  'Sinningia pusilla',\n",
       "  'Sinningia carangolensis\\xa0',\n",
       "  'Sinningia carangolensis\\xa0',\n",
       "  'Sinningia concinna\\xa0',\n",
       "  'Sinningia tubiflora\\xa0',\n",
       "  'Sinningia carangolensis\\xa0',\n",
       "  'Sinningia harleyi\\xa0',\n",
       "  'Sinningia sceptrum',\n",
       "  'Sinningia\\xa0warmingii'])"
      ]
     },
     "execution_count": 54,
     "metadata": {},
     "output_type": "execute_result"
    }
   ],
   "source": [
    "sample_names = list(samples)[:10]\n",
    "sample_names, [sample_to_species[s_] for s_ in sample_names]"
   ]
  },
  {
   "cell_type": "code",
   "execution_count": 55,
   "id": "e6f5072e-938f-4e4a-b7aa-6aa83ec7ed96",
   "metadata": {
    "tags": []
   },
   "outputs": [],
   "source": [
    "bigger_tree_str = \"((((19_K039112_05:0.001,19_K039112_05:0.001):0.013,63_K039178_01:0.018):0.002,58_HC5803-7_09:0.025):0.003,22_K039118_03:0.012);\""
   ]
  },
  {
   "cell_type": "code",
   "execution_count": null,
   "id": "461d4f1a-b22c-4419-86ac-9740e44f4380",
   "metadata": {},
   "outputs": [],
   "source": [
    "alignment = ShapeAlignment()\n",
    "for s_n in sample_names:\n",
    "    alignment.append(label=s_n, sample=Vertices(coords=samples[s_n]))\n",
    "alignment.deduplicate()"
   ]
  },
  {
   "cell_type": "code",
   "execution_count": null,
   "id": "7768e877-bb92-4325-864b-1711d90e8d3a",
   "metadata": {},
   "outputs": [],
   "source": [
    "minimal_tree = newick.parse_newick_string(minimal_tree_str)\n",
    "minimal_tree.draw(node_labels=True, node_sizes=15, tip_labels=[f\"{sample_to_species[raw_tip]} ({raw_tip})\" for raw_tip in minimal_tree.get_tip_labels()])"
   ]
  },
  {
   "cell_type": "code",
   "execution_count": null,
   "id": "377a9c99-7e59-4df4-bfb9-ad19538f7115",
   "metadata": {},
   "outputs": [],
   "source": [
    "# define the PCA tranformer\n",
    "vector_trans = VectorTrans()\n",
    "# define the tree\n",
    "minimal_tree = newick.parse_newick_string(minimal_tree_str)\n",
    "# define the phyloshape object\n",
    "ps = PhyloShape(tree_obj=minimal_tree, shape_alignments=alignment, model=Brownian(), vect_transform=vector_trans.transform, vect_inverse_transform=vector_trans.inverse_transform)\n",
    "# ps = PhyloShape(tree_obj=minimal_tree, shape_alignments=alignment, model=Brownian())\n",
    "ps.reconstruct_ancestral_shapes_using_ml(mode=\"network-local\", num_vs=10)  # old, linear-variation, linear-random, network-local"
   ]
  },
  {
   "cell_type": "code",
   "execution_count": null,
   "id": "8d6944c8-c139-4bbc-8ede-ded5c9f4de69",
   "metadata": {},
   "outputs": [],
   "source": []
  },
  {
   "cell_type": "code",
   "execution_count": null,
   "id": "7c6dbaa9-1758-4f6f-8fe4-f91645b4991a",
   "metadata": {},
   "outputs": [],
   "source": []
  },
  {
   "cell_type": "code",
   "execution_count": null,
   "id": "c665e26a-3ca8-4284-968d-0ae5024747b3",
   "metadata": {},
   "outputs": [],
   "source": []
  },
  {
   "cell_type": "code",
   "execution_count": null,
   "id": "6a5182b6-50c3-4d47-bb23-1124eb0370f8",
   "metadata": {},
   "outputs": [],
   "source": []
  },
  {
   "cell_type": "code",
   "execution_count": null,
   "id": "5c430654-02d3-473d-b83a-2fdff0fd9818",
   "metadata": {},
   "outputs": [],
   "source": []
  },
  {
   "cell_type": "code",
   "execution_count": null,
   "id": "258f59af-87aa-42ba-ad72-0437874941ec",
   "metadata": {},
   "outputs": [],
   "source": []
  },
  {
   "cell_type": "code",
   "execution_count": null,
   "id": "c5f95f4a-4d4b-4ddd-8c4b-946a59bd188d",
   "metadata": {},
   "outputs": [],
   "source": []
  },
  {
   "cell_type": "code",
   "execution_count": null,
   "id": "8e6d3f67-cb4f-4055-b6fb-39ad455d3264",
   "metadata": {},
   "outputs": [],
   "source": []
  },
  {
   "cell_type": "code",
   "execution_count": null,
   "id": "c83a2649-e8b2-4d18-884b-36d251623fe4",
   "metadata": {},
   "outputs": [],
   "source": []
  },
  {
   "cell_type": "code",
   "execution_count": null,
   "id": "bb942b00-f5ad-47bb-90f4-dc6bdd38376b",
   "metadata": {},
   "outputs": [],
   "source": []
  },
  {
   "cell_type": "code",
   "execution_count": null,
   "id": "f1dd2b37-c17f-4382-b532-936e66328201",
   "metadata": {},
   "outputs": [],
   "source": []
  },
  {
   "cell_type": "code",
   "execution_count": null,
   "id": "a58dd88f-f4ff-4a98-acf0-b831defaa3f0",
   "metadata": {},
   "outputs": [],
   "source": []
  },
  {
   "cell_type": "code",
   "execution_count": null,
   "id": "ca85aba9-8c68-42e9-9a15-8257337b76a8",
   "metadata": {},
   "outputs": [],
   "source": []
  },
  {
   "cell_type": "code",
   "execution_count": null,
   "id": "32986c20-620c-4750-bca9-e1ebbc985e8e",
   "metadata": {},
   "outputs": [],
   "source": []
  },
  {
   "cell_type": "code",
   "execution_count": null,
   "id": "cb4ad674-3689-447c-a769-018f22ae4294",
   "metadata": {},
   "outputs": [],
   "source": []
  },
  {
   "cell_type": "code",
   "execution_count": null,
   "id": "59d80d7b-c2eb-4a5e-9813-4d02144837fc",
   "metadata": {},
   "outputs": [],
   "source": []
  },
  {
   "cell_type": "code",
   "execution_count": 38,
   "id": "11352e84-73af-4a11-b53d-fade976b18d3",
   "metadata": {
    "tags": []
   },
   "outputs": [
    {
     "data": {
      "text/plain": [
       "(5, 5)"
      ]
     },
     "execution_count": 38,
     "metadata": {},
     "output_type": "execute_result"
    }
   ],
   "source": [
    "pcs.shape"
   ]
  },
  {
   "cell_type": "code",
   "execution_count": 53,
   "id": "757c25fd-c2f2-4179-8898-8f7361982dd5",
   "metadata": {
    "tags": []
   },
   "outputs": [
    {
     "data": {
      "text/plain": [
       "(5, 300)"
      ]
     },
     "execution_count": 53,
     "metadata": {},
     "output_type": "execute_result"
    }
   ],
   "source": [
    "pca.inverse_transform(pcs).shape"
   ]
  },
  {
   "cell_type": "code",
   "execution_count": 51,
   "id": "86d04133-5b82-4ac6-9d51-bba330413c4f",
   "metadata": {
    "tags": []
   },
   "outputs": [
    {
     "data": {
      "text/plain": [
       "array([[ 559.14,  557.37, 1201.4 ],\n",
       "       [ 537.25,  564.05, 1213.1 ],\n",
       "       [ 519.59,  555.64, 1227.3 ]])"
      ]
     },
     "execution_count": 51,
     "metadata": {},
     "output_type": "execute_result"
    }
   ],
   "source": [
    "pca_test_samples[0][:3]"
   ]
  },
  {
   "cell_type": "code",
   "execution_count": 44,
   "id": "dcf54de2-b04b-40bf-870d-7f5f2c3489a5",
   "metadata": {
    "tags": []
   },
   "outputs": [
    {
     "data": {
      "text/plain": [
       "(5, 300)"
      ]
     },
     "execution_count": 44,
     "metadata": {},
     "output_type": "execute_result"
    }
   ],
   "source": [
    "pca_test_samples_norm.shape"
   ]
  },
  {
   "cell_type": "code",
   "execution_count": null,
   "id": "9fd060a8-78ed-4b00-ace1-811df20ffec3",
   "metadata": {},
   "outputs": [],
   "source": []
  },
  {
   "cell_type": "code",
   "execution_count": null,
   "id": "8c7f7ab3-572d-4f97-8e1e-81a8a7d6f115",
   "metadata": {},
   "outputs": [],
   "source": []
  },
  {
   "cell_type": "code",
   "execution_count": 145,
   "id": "669d5355-79ca-4109-91a2-cdd3a283bcc5",
   "metadata": {
    "tags": []
   },
   "outputs": [
    {
     "data": {
      "text/plain": [
       "(100, 3)"
      ]
     },
     "execution_count": 145,
     "metadata": {},
     "output_type": "execute_result"
    }
   ],
   "source": [
    "pca_test_samples[0].shape"
   ]
  },
  {
   "cell_type": "code",
   "execution_count": 68,
   "id": "22f8531f-5d69-4149-8b93-20291b405a83",
   "metadata": {
    "tags": []
   },
   "outputs": [],
   "source": [
    "pca_test_samples = [samples[_sample][:100] for _sample in sample_names]"
   ]
  },
  {
   "cell_type": "code",
   "execution_count": 71,
   "id": "07360638-1b38-4023-b9f8-e9cfa92f15fd",
   "metadata": {
    "tags": []
   },
   "outputs": [],
   "source": [
    "pca_test_samples_norm = normalize(pca_test_samples)"
   ]
  },
  {
   "cell_type": "code",
   "execution_count": 159,
   "id": "79095338-6b3e-4b0d-a515-628f9d3e0f03",
   "metadata": {
    "tags": []
   },
   "outputs": [],
   "source": [
    "pcs, m, s, T, u = compute_pca(pca_test_samples_norm)"
   ]
  },
  {
   "cell_type": "code",
   "execution_count": 169,
   "id": "d701cebb-2672-4ca1-87a2-8f18fab8d13b",
   "metadata": {
    "tags": []
   },
   "outputs": [
    {
     "data": {
      "text/plain": [
       "array([[0.44414965, 0.44274367, 0.9543252 , ..., 0.25795536, 0.43818413,\n",
       "        0.80490905],\n",
       "       [0.45080626, 0.45965525, 0.2781317 , ..., 0.34907459, 0.42230519,\n",
       "        0.34060688],\n",
       "       [0.33838272, 0.32957344, 0.8084836 , ..., 0.45198983, 0.49666375,\n",
       "        0.8041147 ],\n",
       "       [0.48565414, 0.3571769 , 0.82738899, ..., 0.29383589, 0.41761061,\n",
       "        0.8161093 ],\n",
       "       [0.29632219, 0.571769  , 0.36247518, ..., 0.41456827, 0.43832711,\n",
       "        0.47864008]])"
      ]
     },
     "execution_count": 169,
     "metadata": {},
     "output_type": "execute_result"
    }
   ],
   "source": [
    "pca_test_samples_norm"
   ]
  },
  {
   "cell_type": "code",
   "execution_count": 168,
   "id": "315cd08c-c596-473d-b243-9e7e7ad39083",
   "metadata": {
    "tags": []
   },
   "outputs": [
    {
     "data": {
      "text/plain": [
       "array([[0.42586099, 0.49005968, 0.75101113, ..., 0.28704397, 0.43720487,\n",
       "        0.64350934],\n",
       "       [0.46415803, 0.40648238, 0.56270978, ..., 0.33338396, 0.4287295 ,\n",
       "        0.56982457],\n",
       "       [0.37910995, 0.37073423, 0.65113822, ..., 0.42198881, 0.47089356,\n",
       "        0.67078719],\n",
       "       [0.51209961, 0.39964492, 0.55747818, ..., 0.29754007, 0.36331486,\n",
       "        0.72708987],\n",
       "       [0.39371349, 0.50286522, 0.54884025, ..., 0.34543653, 0.40569853,\n",
       "        0.6509054 ]])"
      ]
     },
     "execution_count": 168,
     "metadata": {},
     "output_type": "execute_result"
    }
   ],
   "source": [
    "reconstruct(w=u, X=pcs, m=m, dim=300)"
   ]
  },
  {
   "cell_type": "code",
   "execution_count": null,
   "id": "f5d7fedd-3bea-4734-bd44-e71e3ff975f8",
   "metadata": {},
   "outputs": [],
   "source": []
  },
  {
   "cell_type": "code",
   "execution_count": 135,
   "id": "1413a159-e952-4270-8fbc-7d0645d92770",
   "metadata": {
    "tags": []
   },
   "outputs": [],
   "source": [
    "pca_test_samples = [[1, 2, 3, 5], [3, 4, 6, 7],[1, 2, 3, 5]]\n",
    "pca_test_samples_norm = normalize(pca_test_samples)\n",
    "pcs, m, s, T, u = compute_pca(pca_test_samples_norm)"
   ]
  },
  {
   "cell_type": "code",
   "execution_count": 136,
   "id": "282ff9e0-dc10-48bf-bd1e-1f115d2358e6",
   "metadata": {
    "tags": []
   },
   "outputs": [
    {
     "data": {
      "text/plain": [
       "array([[ 0.43643578,  0.43643578,  0.65465367,  0.43643578],\n",
       "       [ 0.30367585,  0.03795948,  0.07591896, -0.94898702],\n",
       "       [-0.25819889, -0.51639778, -0.77459667, -0.25819889]])"
      ]
     },
     "execution_count": 136,
     "metadata": {},
     "output_type": "execute_result"
    }
   ],
   "source": [
    "pcs"
   ]
  },
  {
   "cell_type": "code",
   "execution_count": 137,
   "id": "bd14e229-d22d-4d40-a5e1-eb8566eb17ef",
   "metadata": {
    "tags": []
   },
   "outputs": [
    {
     "data": {
      "text/plain": [
       "array([0.23809524, 0.38095238, 0.57142857, 0.80952381])"
      ]
     },
     "execution_count": 137,
     "metadata": {},
     "output_type": "execute_result"
    }
   ],
   "source": [
    "m"
   ]
  },
  {
   "cell_type": "code",
   "execution_count": null,
   "id": "48f65fad-e65c-443c-84e2-fcc14a4e579f",
   "metadata": {},
   "outputs": [],
   "source": []
  },
  {
   "cell_type": "code",
   "execution_count": 70,
   "id": "4b68009f-cdad-4b1c-99d9-844c7b9b6b1d",
   "metadata": {
    "tags": []
   },
   "outputs": [],
   "source": [
    "#! /usr/bin/env python\n",
    "\"\"\"\n",
    "Author: Jeremy M. Stober\n",
    "Program: PCA.PY\n",
    "Date: Tuesday, March 30 2010\n",
    "Description: Principle component analysis.\n",
    "\"\"\"\n",
    "\n",
    "import numpy as np\n",
    "\n",
    "# Note that PCA implementation in MDP cannot handle high dimensional\n",
    "# data (at least the version I tested). Using a tricky set of\n",
    "# convenient transformations, PCA can be applied to very high\n",
    "# dimensional data as in this implementation.\n",
    "\n",
    "def compute_pca(data):\n",
    "    m = np.mean(data, axis=0)\n",
    "    datac = np.array([obs - m for obs in data])\n",
    "    T = np.dot(datac, datac.T)\n",
    "    [u,s,v] = np.linalg.svd(T)\n",
    "\n",
    "    # here iteration is over rows but the columns are the eigenvectors of T\n",
    "    pcs = [np.dot(datac.T, item) for item in u.T ]\n",
    "\n",
    "    # note that the eigenvectors are not normed after multiplication by T^T\n",
    "    pcs = np.array([d / np.linalg.norm(d) for d in pcs])\n",
    "\n",
    "    return pcs, m, s, T, u\n",
    "\n",
    "def compute_projections(I,pcs,m):\n",
    "    projections = []\n",
    "    for i in I:\n",
    "        w = []\n",
    "        for p in pcs:\n",
    "            w.append(np.dot(i - m, p))\n",
    "        projections.append(w)\n",
    "    return projections\n",
    "\n",
    "def reconstruct(w, X, m,dim = 5):\n",
    "    return np.dot(w[:dim],X[:dim,:]) + m\n",
    "\n",
    "def normalize(samples, maxs = None):\n",
    "    # Normalize data to [0,1] intervals. Supply the scale factor or\n",
    "    # compute the maximum value among all the samples.\n",
    "\n",
    "    if not maxs:\n",
    "        maxs = np.max(samples)\n",
    "    return np.array([np.ravel(s) / maxs for s in samples])"
   ]
  },
  {
   "cell_type": "code",
   "execution_count": null,
   "id": "342331df-3ea8-4448-878e-2170082d841e",
   "metadata": {},
   "outputs": [],
   "source": []
  }
 ],
 "metadata": {
  "kernelspec": {
   "display_name": "Python 3 (ipykernel)",
   "language": "python",
   "name": "python3"
  },
  "language_info": {
   "codemirror_mode": {
    "name": "ipython",
    "version": 3
   },
   "file_extension": ".py",
   "mimetype": "text/x-python",
   "name": "python",
   "nbconvert_exporter": "python",
   "pygments_lexer": "ipython3",
   "version": "3.11.2"
  }
 },
 "nbformat": 4,
 "nbformat_minor": 5
}
