{
 "cells": [
  {
   "cell_type": "code",
   "execution_count": 1,
   "id": "0bdc239b-6ca9-41f4-8c7d-56f728f6ef92",
   "metadata": {},
   "outputs": [],
   "source": [
    "import k3d\n",
    "from phyloshape import *\n",
    "from phyloshape.utils import rgb_to_hex"
   ]
  },
  {
   "cell_type": "code",
   "execution_count": 2,
   "id": "7b818f33-c7ee-4f8c-a269-9d9712c639f6",
   "metadata": {},
   "outputs": [],
   "source": [
    "cranolopha = Shape(file_name=\"cranolopha_DE183.ply\")"
   ]
  },
  {
   "cell_type": "code",
   "execution_count": 3,
   "id": "cafbe7b9-9727-4ffe-9ce1-f6e38532ee49",
   "metadata": {},
   "outputs": [],
   "source": [
    "translator = VertexVectorMapper(cranolopha, random_seed=0)"
   ]
  },
  {
   "cell_type": "code",
   "execution_count": 4,
   "id": "efbbe45d-a2c7-4659-b7f9-4085d952b394",
   "metadata": {},
   "outputs": [],
   "source": [
    "preorder_traverse = translator.get_lines_for_k3d_plot()"
   ]
  },
  {
   "cell_type": "code",
   "execution_count": 5,
   "id": "bcce964d-096a-4bd4-930f-5595b0dc5f48",
   "metadata": {},
   "outputs": [],
   "source": [
    "plot = k3d.plot()\n",
    "plot += k3d.mesh(cranolopha.vertices.coords, \n",
    "                 side=\"double\",\n",
    "                 indices=cranolopha.faces.vertex_ids, \n",
    "                 colors=rgb_to_hex(cranolopha.vertices.colors))\n",
    "plot += k3d.line(cranolopha.vertices.coords[preorder_traverse], shader=\"simple\", width=.3, color=0xff0000)"
   ]
  },
  {
   "cell_type": "code",
   "execution_count": 6,
   "id": "d38cc796-d705-4699-a703-87c9cf490e22",
   "metadata": {},
   "outputs": [
    {
     "data": {
      "application/vnd.jupyter.widget-view+json": {
       "model_id": "8c7d1014027344ef94351e48fc2f96df",
       "version_major": 2,
       "version_minor": 0
      },
      "text/plain": [
       "Plot(antialias=3, axes=['x', 'y', 'z'], axes_helper=1.0, background_color=16777215, camera_animation=[], camer…"
      ]
     },
     "metadata": {},
     "output_type": "display_data"
    }
   ],
   "source": [
    "plot"
   ]
  },
  {
   "cell_type": "code",
   "execution_count": null,
   "id": "9b79967d-692c-419c-be4c-b2f616b803b6",
   "metadata": {},
   "outputs": [],
   "source": []
  }
 ],
 "metadata": {
  "kernelspec": {
   "display_name": "Python 3 (ipykernel)",
   "language": "python",
   "name": "python3"
  },
  "language_info": {
   "codemirror_mode": {
    "name": "ipython",
    "version": 3
   },
   "file_extension": ".py",
   "mimetype": "text/x-python",
   "name": "python",
   "nbconvert_exporter": "python",
   "pygments_lexer": "ipython3",
   "version": "3.8.0"
  }
 },
 "nbformat": 4,
 "nbformat_minor": 5
}
